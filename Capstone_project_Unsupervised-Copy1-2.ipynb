{
 "cells": [
  {
   "cell_type": "markdown",
   "metadata": {},
   "source": [
    "# Unsupervised Capstone Project\n",
    "# Goal: Build an unsupervised model that will classify authors based on the style of writing using natural language processing.\n",
    " "
   ]
  },
  {
   "cell_type": "code",
   "execution_count": 15,
   "metadata": {},
   "outputs": [],
   "source": [
    "%matplotlib inline\n",
    "import numpy as np\n",
    "import pandas as pd\n",
    "import sklearn\n",
    "import spacy\n",
    "import matplotlib.pyplot as plt\n",
    "import seaborn as sns\n",
    "import nltk\n",
    "import re\n",
    "from nltk.corpus import gutenberg\n",
    "from nltk.corpus import stopwords\n",
    "from sklearn.preprocessing import normalize\n",
    "from sklearn.decomposition import PCA\n",
    "pd.set_option('display.max_columns', 100)"
   ]
  },
  {
   "cell_type": "markdown",
   "metadata": {},
   "source": [
    "# Define functions to clean, lemmatize and process the text file as a string."
   ]
  },
  {
   "cell_type": "code",
   "execution_count": 16,
   "metadata": {},
   "outputs": [],
   "source": [
    "#This function expects a raw string. The purpose of this function is to take the string\n",
    "#text and remove double dashes, punctuactions and special characters.\n",
    "def text_cleaner(text):\n",
    "    text = re.sub(r'--',' ',text)\n",
    "    text = re.sub(\"[\\[].*?[\\]]\", \"\", text)\n",
    "    #text = re.sub(r'[\\r|\\n|\\r\\n]+', \"\", text)\n",
    "    text = re.sub('[^a-zA-z0-9\\s]', \"\", text)\n",
    "    text = ' '.join(text.split())\n",
    "    return text"
   ]
  },
  {
   "cell_type": "code",
   "execution_count": 17,
   "metadata": {},
   "outputs": [],
   "source": [
    "#define a function to lemmatize the list\n",
    "from nltk.stem.wordnet import WordNetLemmatizer\n",
    "from nltk import word_tokenize\n",
    "#nlp = spacy.load('en', parse = False, tag=False, entity=False)\n",
    "\n",
    "\n",
    "#create a function to lemmatize the text in the combine list\n",
    "def lemmatizestring(text):\n",
    "\n",
    "    lmtzr = WordNetLemmatizer()\n",
    "\n",
    "    return(\" \".join([lmtzr.lemmatize(word) for word in word_tokenize(text)]))\n",
    "    \n",
    "    #using the following line of code creates a [E088] Text of length 1166183 exceeds maximum of 1000000.\n",
    "    #text = nlp(text)\n",
    "    #text = ' '.join([word.lemma_ if word.lemma_ != '-PRON-' else word.text for word in text])\n",
    "    #return text"
   ]
  },
  {
   "cell_type": "code",
   "execution_count": 18,
   "metadata": {},
   "outputs": [],
   "source": [
    "#The function will take a raw text string and tokenize the words for given number. \n",
    "#For example, if the function is given a raw text string and the 100 as input parameters\n",
    "#it will create 100 tokenized words store it in a list and repeat the process. The result \n",
    "#will be multiple lists equal to the num_of_words parametar.\n",
    "#The purpose of this function is create a list of words that can be passed as input parameters \n",
    "#to our tfidf function that is used to create featurs.\n",
    "\n",
    "def chunck_words(text,num_of_words):\n",
    "\n",
    "    text = text.split(' ') #split on whitespace creates a token\n",
    "    results = []\n",
    "    res = []\n",
    "    for word in text:\n",
    "        res.append(word)\n",
    "        if len(res)==num_of_words:\n",
    "            results.append(\" \".join(res))\n",
    "            res = []\n",
    "    results.append(\" \".join(res))\n",
    "    return(results)"
   ]
  },
  {
   "cell_type": "markdown",
   "metadata": {},
   "source": [
    "# Import text files in string format from ten different authors/sources. Execute functions to clean, lemmatize and process the files. "
   ]
  },
  {
   "cell_type": "code",
   "execution_count": 19,
   "metadata": {},
   "outputs": [],
   "source": [
    "#load in the documents from nltk in a raw string \n",
    "#gutenberg.raw\n",
    "#:return: the given file(s) as a single string.\n",
    "#:rtype: str\n",
    "caesar_raw_string = gutenberg.raw('shakespeare-caesar.txt')\n",
    "hamlet_raw_string = gutenberg.raw('shakespeare-hamlet.txt')\n",
    "macbeth_raw_string = gutenberg.raw('shakespeare-macbeth.txt')\n",
    "ball_raw_string = gutenberg.raw('chesterton-ball.txt')\n",
    "brown_raw_string = gutenberg.raw('chesterton-brown.txt')\n",
    "thursday_raw_string = gutenberg.raw('chesterton-thursday.txt')\n",
    "moby_dick_raw_string = gutenberg.raw('melville-moby_dick.txt')\n",
    "bryant_raw_string = gutenberg.raw('bryant-stories.txt')\n",
    "leaves_raw_string = gutenberg.raw('whitman-leaves.txt')\n",
    "busterbrown_raw_string = gutenberg.raw('burgess-busterbrown.txt')"
   ]
  },
  {
   "cell_type": "code",
   "execution_count": 20,
   "metadata": {},
   "outputs": [],
   "source": [
    "#Clean the raw file loaded as a string and print the output\n",
    "caesar_cleaned_text = text_cleaner(caesar_raw_string)\n",
    "hamlet_cleaned_text = text_cleaner(hamlet_raw_string)\n",
    "macbeth_cleaned_text = text_cleaner(macbeth_raw_string)\n",
    "ball_cleaned_text = text_cleaner(ball_raw_string)\n",
    "brown_cleaned_text = text_cleaner(brown_raw_string)\n",
    "thursday_cleaned_text = text_cleaner(thursday_raw_string)\n",
    "moby_dick_cleaned_text = text_cleaner(moby_dick_raw_string)\n",
    "bryant_cleaned_text = text_cleaner(bryant_raw_string)\n",
    "leaves_cleaned_text = text_cleaner(leaves_raw_string)\n",
    "busterbrown_cleaned_text = text_cleaner(busterbrown_raw_string)"
   ]
  },
  {
   "cell_type": "code",
   "execution_count": 21,
   "metadata": {},
   "outputs": [],
   "source": [
    "#Lemmatize the file to show the root words\n",
    "caesar_lemmatize_text = lemmatizestring(caesar_cleaned_text)\n",
    "hamlet_lemmatize_text = lemmatizestring(hamlet_cleaned_text)\n",
    "macbeth_lemmatize_text = lemmatizestring(macbeth_cleaned_text)\n",
    "ball_lemmatize_text = lemmatizestring(ball_cleaned_text)\n",
    "brown_lemmatize_text = lemmatizestring(brown_cleaned_text)\n",
    "thursday_lemmatize_text = lemmatizestring(thursday_cleaned_text)\n",
    "moby_dick_lemmatize_text = lemmatizestring(moby_dick_cleaned_text)\n",
    "bryant_lemmatize_text = lemmatizestring(bryant_cleaned_text)\n",
    "leaves_lemmatize_text = lemmatizestring(leaves_cleaned_text)\n",
    "busterbrown_lemmatize_text = lemmatizestring(busterbrown_cleaned_text)"
   ]
  },
  {
   "cell_type": "code",
   "execution_count": 22,
   "metadata": {},
   "outputs": [],
   "source": [
    "#verify output of one file\n",
    "#moby_dick_lemmatize_text"
   ]
  },
  {
   "cell_type": "code",
   "execution_count": 132,
   "metadata": {},
   "outputs": [],
   "source": [
    "#take the raw string and tokenize it for 1000 words.\n",
    "num_of_words = 1000\n",
    "new_tokenized_list_caesar=chunck_words(caesar_lemmatize_text,num_of_words)\n",
    "new_tokenized_list_hamlet=chunck_words(hamlet_lemmatize_text,num_of_words)\n",
    "new_tokenized_list_macbeth=chunck_words(macbeth_lemmatize_text,num_of_words)\n",
    "new_tokenized_list_ball=chunck_words(ball_lemmatize_text,num_of_words)\n",
    "new_tokenized_list_brown=chunck_words(brown_lemmatize_text,num_of_words)\n",
    "new_tokenized_list_thursday=chunck_words(thursday_lemmatize_text,num_of_words)\n",
    "new_tokenized_list_moby_dick=chunck_words(moby_dick_lemmatize_text,num_of_words)\n",
    "new_tokenized_list_bryant=chunck_words(bryant_lemmatize_text,num_of_words)\n",
    "new_tokenized_list_leaves=chunck_words(leaves_lemmatize_text,num_of_words)\n",
    "new_tokenized_list_busterbrown=chunck_words(busterbrown_lemmatize_text,num_of_words)\n"
   ]
  },
  {
   "cell_type": "code",
   "execution_count": 133,
   "metadata": {},
   "outputs": [],
   "source": [
    "#verify output of one file\n",
    "#new_tokenized_list_macbeth"
   ]
  },
  {
   "cell_type": "markdown",
   "metadata": {},
   "source": [
    "# After all files have been imported, cleaned and process then identify the lenght of each file and combine them into one file. Create a y vector that contains the aurthor/source name of each file. "
   ]
  },
  {
   "cell_type": "code",
   "execution_count": 134,
   "metadata": {},
   "outputs": [
    {
     "name": "stdout",
     "output_type": "stream",
     "text": [
      "lenght of caesar:  21\n",
      "lenght of hamlet:  30\n",
      "lenght of macbeth:  18\n",
      "lenght of ball:  82\n",
      "lenght of brown:  72\n",
      "lenght of thursday:  59\n",
      "lenght of moby dick:  214\n",
      "lenght of bryant:  47\n",
      "lenght of leaves:  123\n",
      "lenght of busterbrown:  16\n",
      "total lenght is 682\n"
     ]
    }
   ],
   "source": [
    "#Print the lengths of the tokenized list, as this will help us later on verify if we \n",
    "#have the correct number of rows when we combine the files.\n",
    "print('lenght of caesar: ',len(new_tokenized_list_caesar))\n",
    "print('lenght of hamlet: ',len(new_tokenized_list_hamlet))\n",
    "print('lenght of macbeth: ',len(new_tokenized_list_macbeth))\n",
    "print('lenght of ball: ',len(new_tokenized_list_ball))\n",
    "print('lenght of brown: ',len(new_tokenized_list_brown))\n",
    "print('lenght of thursday: ',len(new_tokenized_list_thursday))\n",
    "print('lenght of moby dick: ',len(new_tokenized_list_moby_dick))\n",
    "print('lenght of bryant: ',len(new_tokenized_list_bryant))\n",
    "print('lenght of leaves: ',len(new_tokenized_list_leaves))\n",
    "print('lenght of busterbrown: ',len(new_tokenized_list_busterbrown))\n",
    "print('total lenght is',len(new_tokenized_list_caesar)+\n",
    "     len(new_tokenized_list_hamlet)+ len(new_tokenized_list_macbeth)\n",
    "     +len(new_tokenized_list_ball)+len(new_tokenized_list_brown)+\n",
    "     len(new_tokenized_list_thursday)+len(new_tokenized_list_moby_dick)+\n",
    "     len(new_tokenized_list_bryant)+len(new_tokenized_list_leaves)+\n",
    "     len(new_tokenized_list_busterbrown))"
   ]
  },
  {
   "cell_type": "code",
   "execution_count": 135,
   "metadata": {},
   "outputs": [
    {
     "name": "stdout",
     "output_type": "stream",
     "text": [
      "combine tokenized length: 21\n",
      "length of y is: 21\n",
      "combine tokenized length: 51\n",
      "length of y is: 51\n",
      "combine tokenized length: 69\n",
      "length of y is: 69\n",
      "combine tokenized length: 151\n",
      "length of y is: 151\n",
      "combine tokenized length: 223\n",
      "length of y is: 223\n",
      "combine tokenized length: 282\n",
      "length of y is: 282\n",
      "combine tokenized length: 496\n",
      "length of y is: 496\n",
      "combine tokenized length: 543\n",
      "length of y is: 543\n",
      "combine tokenized length: 666\n",
      "length of y is: 666\n",
      "combine tokenized length: 682\n",
      "length of y is: 682\n"
     ]
    }
   ],
   "source": [
    "#Combine the tokenized list and create the Y vector by adding the source name of the\n",
    "#file\n",
    "combine_tokenized_liststring = new_tokenized_list_caesar\n",
    "print('combine tokenized length:',len(combine_tokenized_liststring))\n",
    "y=['caesar'] * len(new_tokenized_list_caesar)\n",
    "print('length of y is:',len(y))\n",
    "\n",
    "combine_tokenized_liststring.extend(new_tokenized_list_hamlet)\n",
    "print('combine tokenized length:',len(combine_tokenized_liststring))\n",
    "y+=['hamlet'] * len(new_tokenized_list_hamlet)\n",
    "print('length of y is:',len(y))\n",
    "\n",
    "\n",
    "combine_tokenized_liststring.extend(new_tokenized_list_macbeth)\n",
    "print('combine tokenized length:',len(combine_tokenized_liststring))\n",
    "y+=['macbeth'] * len(new_tokenized_list_macbeth)\n",
    "print('length of y is:',len(y))\n",
    "\n",
    "\n",
    "combine_tokenized_liststring.extend(new_tokenized_list_ball)\n",
    "print('combine tokenized length:',len(combine_tokenized_liststring))\n",
    "y+=['ball'] * len(new_tokenized_list_ball)\n",
    "print('length of y is:',len(y))\n",
    "\n",
    "combine_tokenized_liststring.extend(new_tokenized_list_brown)\n",
    "print('combine tokenized length:',len(combine_tokenized_liststring))\n",
    "y+=['brown'] * len(new_tokenized_list_brown)\n",
    "print('length of y is:',len(y))\n",
    "\n",
    "combine_tokenized_liststring.extend(new_tokenized_list_thursday)\n",
    "print('combine tokenized length:',len(combine_tokenized_liststring))\n",
    "y+=['thursday'] * len(new_tokenized_list_thursday)\n",
    "print('length of y is:',len(y))\n",
    "\n",
    "combine_tokenized_liststring.extend(new_tokenized_list_moby_dick)\n",
    "print('combine tokenized length:',len(combine_tokenized_liststring))\n",
    "y+=['moby_dick'] * len(new_tokenized_list_moby_dick)\n",
    "print('length of y is:',len(y))\n",
    "\n",
    "combine_tokenized_liststring.extend(new_tokenized_list_bryant)\n",
    "print('combine tokenized length:',len(combine_tokenized_liststring))\n",
    "y+=['bryant'] * len(new_tokenized_list_bryant)\n",
    "print('length of y is:',len(y))\n",
    "\n",
    "combine_tokenized_liststring.extend(new_tokenized_list_leaves)\n",
    "print('combine tokenized length:',len(combine_tokenized_liststring))\n",
    "y+=['leaves'] * len(new_tokenized_list_leaves)\n",
    "print('length of y is:',len(y))\n",
    "\n",
    "combine_tokenized_liststring.extend(new_tokenized_list_busterbrown)\n",
    "print('combine tokenized length:',len(combine_tokenized_liststring))\n",
    "y+=['busterbrown'] * len(new_tokenized_list_busterbrown)\n",
    "print('length of y is:',len(y))"
   ]
  },
  {
   "cell_type": "code",
   "execution_count": 136,
   "metadata": {},
   "outputs": [],
   "source": [
    "#y[151]"
   ]
  },
  {
   "cell_type": "code",
   "execution_count": 137,
   "metadata": {},
   "outputs": [],
   "source": [
    "#combine_tokenized_liststring[151]"
   ]
  },
  {
   "cell_type": "code",
   "execution_count": 138,
   "metadata": {},
   "outputs": [
    {
     "data": {
      "text/plain": [
       "array(['ball', 'brown', 'bryant', 'busterbrown', 'caesar', 'hamlet',\n",
       "       'leaves', 'macbeth', 'moby_dick', 'thursday'], dtype='<U11')"
      ]
     },
     "execution_count": 138,
     "metadata": {},
     "output_type": "execute_result"
    }
   ],
   "source": [
    "np.unique(y)"
   ]
  },
  {
   "cell_type": "code",
   "execution_count": 139,
   "metadata": {},
   "outputs": [],
   "source": [
    "#test = y[151]+ ' ' + combine_tokenized_liststring[151]\n",
    "#test"
   ]
  },
  {
   "cell_type": "markdown",
   "metadata": {},
   "source": [
    "# Generate Features"
   ]
  },
  {
   "cell_type": "code",
   "execution_count": 140,
   "metadata": {},
   "outputs": [],
   "source": [
    "# load nltk's English stopwords as variable called 'stopwords' we will use this as a parameter\n",
    "# in the CountVectorizer and TFIDF function\n",
    "stopwords = nltk.corpus.stopwords.words('english')"
   ]
  },
  {
   "cell_type": "code",
   "execution_count": 141,
   "metadata": {},
   "outputs": [],
   "source": [
    "#Use tfitd to create our features\n",
    "#tf-idf gives is how important a word is to a document\n",
    "from sklearn.feature_extraction.text import TfidfVectorizer\n",
    "\n",
    "vectorizer = TfidfVectorizer(max_df=0.5, # drop words that occur in more than half the paragraphs\n",
    "                             min_df=3, # only use words that appear at least twice\n",
    "                             stop_words=stopwords, \n",
    "                             lowercase=True, #convert everything to lower case (since Alice in Wonderland has the HABIT of CAPITALIZING WORDS for EMPHASIS)\n",
    "                             use_idf=True,#we definitely want to use inverse document frequencies in our weighting\n",
    "                             norm=u'l2', #Applies a correction factor so that longer paragraphs and shorter paragraphs get treated equally\n",
    "                             smooth_idf=True #Adds 1 to all document frequencies, as if an extra document existed that used every word once.  Prevents divide-by-zero errors\n",
    "                            )\n",
    "tfidf=vectorizer.fit_transform(combine_tokenized_liststring)\n",
    "terms = vectorizer.get_feature_names()\n",
    "X_tfidf = pd.DataFrame(data=tfidf.toarray(),\n",
    "             columns=terms)\n",
    "X_tfidf.head()\n",
    "\n",
    "#define the test/train split set.\n",
    "from sklearn.model_selection import train_test_split\n",
    "\n",
    "Y = y\n",
    "X = X_tfidf\n",
    "#X = combine_tokenized_liststring\n",
    "\n",
    "#Let's train/test with 75% of our data\n",
    "X_train, X_test, y_train, y_test = train_test_split(X, \n",
    "                                                    Y,\n",
    "                                                    test_size=0.25,\n",
    "                                                    random_state=0)"
   ]
  },
  {
   "cell_type": "code",
   "execution_count": 142,
   "metadata": {},
   "outputs": [
    {
     "data": {
      "text/plain": [
       "(682, 12088)"
      ]
     },
     "execution_count": 142,
     "metadata": {},
     "output_type": "execute_result"
    }
   ],
   "source": [
    "X_tfidf.shape"
   ]
  },
  {
   "cell_type": "code",
   "execution_count": 143,
   "metadata": {},
   "outputs": [
    {
     "data": {
      "text/plain": [
       "171"
      ]
     },
     "execution_count": 143,
     "metadata": {},
     "output_type": "execute_result"
    }
   ],
   "source": [
    "len(y_test)"
   ]
  },
  {
   "cell_type": "code",
   "execution_count": 144,
   "metadata": {},
   "outputs": [
    {
     "data": {
      "text/plain": [
       "511"
      ]
     },
     "execution_count": 144,
     "metadata": {},
     "output_type": "execute_result"
    }
   ],
   "source": [
    "len(y_train)"
   ]
  },
  {
   "cell_type": "code",
   "execution_count": 145,
   "metadata": {},
   "outputs": [],
   "source": [
    "#y_train"
   ]
  },
  {
   "cell_type": "code",
   "execution_count": 146,
   "metadata": {},
   "outputs": [
    {
     "data": {
      "text/plain": [
       "511"
      ]
     },
     "execution_count": 146,
     "metadata": {},
     "output_type": "execute_result"
    }
   ],
   "source": [
    "len(X_train)"
   ]
  },
  {
   "cell_type": "code",
   "execution_count": 147,
   "metadata": {},
   "outputs": [],
   "source": [
    "#define function to get the top features\n",
    "def top_tfidf_feats(row, features, top_n=20):\n",
    "    topn_ids = np.argsort(row)[::-1][:top_n]\n",
    "    top_feats = [(features[i], row[i]) for i in topn_ids]\n",
    "    df = pd.DataFrame(top_feats, columns=['features', 'score'])\n",
    "    return df\n",
    "\n",
    "def top_feats_in_doc(X, features, row_id, top_n=25):\n",
    "    row = np.squeeze(X[row_id].toarray())\n",
    "    return top_tfidf_feats(row, features, top_n)"
   ]
  },
  {
   "cell_type": "code",
   "execution_count": 148,
   "metadata": {},
   "outputs": [],
   "source": [
    "#print the top 20 features and their tf-idf score\n",
    "#features = vect.get_feature_names()\n",
    "#print(top_feats_in_doc(tfidf,terms, 1, 20))"
   ]
  },
  {
   "cell_type": "code",
   "execution_count": 149,
   "metadata": {},
   "outputs": [],
   "source": [
    "#returing the top terms out of the features\n",
    "def top_mean_feats(X, features,\n",
    " grp_ids=None, min_tfidf=0.5, top_n=20):\n",
    "    if grp_ids:\n",
    "        D = X[grp_ids].toarray()\n",
    "    else:\n",
    "        D = X.toarray()\n",
    "    D[D < min_tfidf] = 0\n",
    "    tfidf_means = np.mean(D, axis=0)\n",
    "    return top_tfidf_feats(tfidf_means, features, top_n)"
   ]
  },
  {
   "cell_type": "code",
   "execution_count": 150,
   "metadata": {},
   "outputs": [],
   "source": [
    "#print the top 20 features\n",
    "#print(top_mean_feats(tfidf,terms, top_n=20))"
   ]
  },
  {
   "cell_type": "code",
   "execution_count": null,
   "metadata": {},
   "outputs": [],
   "source": []
  },
  {
   "cell_type": "markdown",
   "metadata": {},
   "source": [
    "# Generate clusters for K-means,MeanShift,SpectralClustering and AffinityPropagation"
   ]
  },
  {
   "cell_type": "code",
   "execution_count": 206,
   "metadata": {},
   "outputs": [
    {
     "name": "stdout",
     "output_type": "stream",
     "text": [
      "Top terms per cluster:\n",
      "Cluster 0:\n",
      "Terms: caesar\n",
      "Terms: brutus\n",
      "Terms: bru\n",
      "Terms: cassi\n",
      "Terms: haue\n",
      "Terms: cassius\n",
      "Terms: cask\n",
      "Terms: caes\n",
      "Terms: antony\n",
      "Terms: brut\n",
      "\n",
      "\n",
      "Cluster 1:\n",
      "Terms: buster\n",
      "Terms: brown\n",
      "Terms: father\n",
      "Terms: flambeau\n",
      "Terms: joe\n",
      "Terms: bear\n",
      "Terms: priest\n",
      "Terms: dont\n",
      "Terms: browns\n",
      "Terms: think\n",
      "\n",
      "\n",
      "Cluster 2:\n",
      "Terms: ahab\n",
      "Terms: ye\n",
      "Terms: whale\n",
      "Terms: captain\n",
      "Terms: thou\n",
      "Terms: ship\n",
      "Terms: starbuck\n",
      "Terms: sir\n",
      "Terms: stubb\n",
      "Terms: aye\n",
      "\n",
      "\n",
      "Cluster 3:\n",
      "Terms: fir\n",
      "Terms: door\n",
      "Terms: michael\n",
      "Terms: seemed\n",
      "Terms: cross\n",
      "Terms: looked\n",
      "Terms: came\n",
      "Terms: street\n",
      "Terms: tree\n",
      "Terms: room\n",
      "\n",
      "\n",
      "Cluster 4:\n",
      "Terms: turnbull\n",
      "Terms: macian\n",
      "Terms: evan\n",
      "Terms: quite\n",
      "Terms: wall\n",
      "Terms: sword\n",
      "Terms: god\n",
      "Terms: mean\n",
      "Terms: garden\n",
      "Terms: really\n",
      "\n",
      "\n",
      "Cluster 5:\n",
      "Terms: whale\n",
      "Terms: sperm\n",
      "Terms: leviathan\n",
      "Terms: oil\n",
      "Terms: whales\n",
      "Terms: sea\n",
      "Terms: whaling\n",
      "Terms: spout\n",
      "Terms: greenland\n",
      "Terms: chapter\n",
      "\n",
      "\n",
      "Cluster 6:\n",
      "Terms: whale\n",
      "Terms: boat\n",
      "Terms: ship\n",
      "Terms: queequeg\n",
      "Terms: stubb\n",
      "Terms: sea\n",
      "Terms: captain\n",
      "Terms: ahab\n",
      "Terms: ye\n",
      "Terms: water\n",
      "\n",
      "\n",
      "Cluster 7:\n",
      "Terms: love\n",
      "Terms: soul\n",
      "Terms: thee\n",
      "Terms: shall\n",
      "Terms: song\n",
      "Terms: thy\n",
      "Terms: land\n",
      "Terms: earth\n",
      "Terms: woman\n",
      "Terms: city\n",
      "\n",
      "\n",
      "Cluster 8:\n",
      "Terms: ham\n",
      "Terms: haue\n",
      "Terms: lord\n",
      "Terms: macb\n",
      "Terms: king\n",
      "Terms: enter\n",
      "Terms: thou\n",
      "Terms: hor\n",
      "Terms: hamlet\n",
      "Terms: vpon\n",
      "\n",
      "\n",
      "Cluster 9:\n",
      "Terms: syme\n",
      "Terms: professor\n",
      "Terms: gregory\n",
      "Terms: bull\n",
      "Terms: sunday\n",
      "Terms: marquis\n",
      "Terms: dr\n",
      "Terms: secretary\n",
      "Terms: anarchist\n",
      "Terms: colonel\n",
      "\n",
      "\n",
      "Prediction\n"
     ]
    },
    {
     "data": {
      "image/png": "[encoded data removed]",
      "text/plain": [
       "<Figure size 432x288 with 1 Axes>"
      ]
     },
     "metadata": {},
     "output_type": "display_data"
    }
   ],
   "source": [
    "from sklearn.cluster import KMeans\n",
    "n_clusters = 10\n",
    "model = KMeans(n_clusters=n_clusters, init='k-means++', max_iter=100, n_init=1)\n",
    "model.fit(X_train)\n",
    "pred = model.predict(X_train) \n",
    "\n",
    "print(\"Top terms per cluster:\")\n",
    "order_centroids = model.cluster_centers_.argsort()[:, ::-1]\n",
    "terms = vectorizer.get_feature_names()\n",
    "for i in range(n_clusters):\n",
    "    print(\"Cluster %d:\" % i),\n",
    "    for ind in order_centroids[i, :10]:\n",
    "        print('Terms: %s' % terms[ind])\n",
    "    #for ind, y_train in zip(order_centroids[i, :10], resultSet):\n",
    "        #print('Terms: %s    Authours: %d' % (terms[ind], resultSet))\n",
    "    #print\n",
    "\n",
    "    print(\"\\n\")\n",
    "print(\"Prediction\")\n",
    "\n",
    "#print(pd.crosstab(y_train, pred, margins=True, margins_name=\"Total\"))\n",
    "\n",
    "\n",
    "plt.hist(model.labels_, bins=n_clusters)\n",
    "plt.show()\n"
   ]
  },
  {
   "cell_type": "code",
   "execution_count": 207,
   "metadata": {},
   "outputs": [],
   "source": [
    "#y_train"
   ]
  },
  {
   "cell_type": "code",
   "execution_count": 204,
   "metadata": {},
   "outputs": [
    {
     "data": {
      "text/plain": [
       "numpy.ndarray"
      ]
     },
     "execution_count": 204,
     "metadata": {},
     "output_type": "execute_result"
    }
   ],
   "source": [
    "type(pred)"
   ]
  },
  {
   "cell_type": "code",
   "execution_count": 205,
   "metadata": {},
   "outputs": [
    {
     "data": {
      "text/plain": [
       "list"
      ]
     },
     "execution_count": 205,
     "metadata": {},
     "output_type": "execute_result"
    }
   ],
   "source": [
    "type(y_train)"
   ]
  },
  {
   "cell_type": "code",
   "execution_count": 200,
   "metadata": {},
   "outputs": [
    {
     "data": {
      "text/plain": [
       "(511,)"
      ]
     },
     "execution_count": 200,
     "metadata": {},
     "output_type": "execute_result"
    }
   ],
   "source": [
    "pred.shape"
   ]
  },
  {
   "cell_type": "code",
   "execution_count": 202,
   "metadata": {},
   "outputs": [
    {
     "data": {
      "text/plain": [
       "511"
      ]
     },
     "execution_count": 202,
     "metadata": {},
     "output_type": "execute_result"
    }
   ],
   "source": [
    "len(y_train)"
   ]
  },
  {
   "cell_type": "code",
   "execution_count": 190,
   "metadata": {},
   "outputs": [
    {
     "data": {
      "image/png": "[encoded data removed]",
      "text/plain": [
       "<Figure size 432x288 with 1 Axes>"
      ]
     },
     "metadata": {},
     "output_type": "display_data"
    },
    {
     "data": {
      "text/html": [
       "<div>\n",
       "<style scoped>\n",
       "    .dataframe tbody tr th:only-of-type {\n",
       "        vertical-align: middle;\n",
       "    }\n",
       "\n",
       "    .dataframe tbody tr th {\n",
       "        vertical-align: top;\n",
       "    }\n",
       "\n",
       "    .dataframe thead th {\n",
       "        text-align: right;\n",
       "    }\n",
       "</style>\n",
       "<table border=\"1\" class=\"dataframe\">\n",
       "  <thead>\n",
       "    <tr style=\"text-align: right;\">\n",
       "      <th></th>\n",
       "      <th>Cluster</th>\n",
       "      <th>Number of clusters</th>\n",
       "      <th>RI Score</th>\n",
       "      <th>RI adjusted score</th>\n",
       "    </tr>\n",
       "  </thead>\n",
       "  <tbody>\n",
       "    <tr>\n",
       "      <th>0</th>\n",
       "      <td>K-Means</td>\n",
       "      <td>10</td>\n",
       "      <td></td>\n",
       "      <td></td>\n",
       "    </tr>\n",
       "  </tbody>\n",
       "</table>\n",
       "</div>"
      ],
      "text/plain": [
       "   Cluster  Number of clusters RI Score RI adjusted score\n",
       "0  K-Means                  10                           "
      ]
     },
     "execution_count": 190,
     "metadata": {},
     "output_type": "execute_result"
    }
   ],
   "source": [
    "#k-means with PCA\n",
    "from sklearn.cluster import KMeans\n",
    "\n",
    "\n",
    "# Normalize the data.\n",
    "X_norm = normalize(X_train)\n",
    "\n",
    "# Reduce it to two components.\n",
    "X_pca = PCA(2).fit_transform(X_norm)\n",
    "\n",
    "# Calculate predicted values.\n",
    "km = KMeans(n_clusters=10,n_init = 5, n_jobs = -1).fit(X_pca)\n",
    "y_pred = km.fit_predict(X_pca)\n",
    "#y_pred = KMeans(n_clusters=10,n_init = 5, n_jobs = -1).fit_predict(X_train)\n",
    "labels = km.labels_\n",
    "\n",
    "# Plot the solution.\n",
    "plt.scatter(X_pca[:, 0], X_pca[:, 1], c=y_pred)\n",
    "\n",
    "centers =km.cluster_centers_\n",
    "plt.scatter(centers[:, 0], centers[:, 1], c='black', s=100, alpha=0.5)\n",
    "plt.show()\n",
    "\n",
    "#create a result table\n",
    "data = [{'Cluster':'K-Means', 'Number of clusters': n_clusters, 'RI Score': '',\n",
    "         'RI adjusted score': ''}]\n",
    "df_results = pd.DataFrame(data)\n",
    "\n",
    "df_results\n",
    "\n",
    "#The model has a cluster centers attribute that returns the coordinates of each of the \n",
    "#k cluster centroids. Each token in the vectorizer we created earlier has a dimension or \n",
    "#coordinate in the centroid and represents its relative frequency within that cluster. \n",
    "#So to find the words with the highest frequency in a cluster, we have to locate the \n",
    "#indices of the highest values of the centroid, which then correspond to the indices of \n",
    "#the tokens in the vectorizer. Therefore, below are the top ten frequented words in \n",
    "#each cluster for K-Means\n",
    "\n",
    "\n",
    "#common_words = y_pred.cluster_centers_.argsort()[:,-1:-11:-1]\n",
    "#for num, centroid in enumerate(common_words):\n",
    "#    print(str(num) + ' : ' + ', '.join(terms[word] for word in centroid))"
   ]
  },
  {
   "cell_type": "code",
   "execution_count": 153,
   "metadata": {},
   "outputs": [
    {
     "data": {
      "text/plain": [
       "(511, 2)"
      ]
     },
     "execution_count": 153,
     "metadata": {},
     "output_type": "execute_result"
    }
   ],
   "source": [
    "X_pca.shape"
   ]
  },
  {
   "cell_type": "code",
   "execution_count": 154,
   "metadata": {},
   "outputs": [
    {
     "name": "stdout",
     "output_type": "stream",
     "text": [
      "Number of estimated clusters: 8\n"
     ]
    },
    {
     "data": {
      "image/png": "[encoded data removed]",
      "text/plain": [
       "<Figure size 432x288 with 1 Axes>"
      ]
     },
     "metadata": {},
     "output_type": "display_data"
    },
    {
     "data": {
      "text/html": [
       "<div>\n",
       "<style scoped>\n",
       "    .dataframe tbody tr th:only-of-type {\n",
       "        vertical-align: middle;\n",
       "    }\n",
       "\n",
       "    .dataframe tbody tr th {\n",
       "        vertical-align: top;\n",
       "    }\n",
       "\n",
       "    .dataframe thead th {\n",
       "        text-align: right;\n",
       "    }\n",
       "</style>\n",
       "<table border=\"1\" class=\"dataframe\">\n",
       "  <thead>\n",
       "    <tr style=\"text-align: right;\">\n",
       "      <th></th>\n",
       "      <th>Cluster</th>\n",
       "      <th>Number of clusters</th>\n",
       "      <th>RI Score</th>\n",
       "      <th>RI adjusted score</th>\n",
       "    </tr>\n",
       "  </thead>\n",
       "  <tbody>\n",
       "    <tr>\n",
       "      <th>0</th>\n",
       "      <td>K-Means</td>\n",
       "      <td>10</td>\n",
       "      <td></td>\n",
       "      <td></td>\n",
       "    </tr>\n",
       "    <tr>\n",
       "      <th>0</th>\n",
       "      <td>MeanShift</td>\n",
       "      <td>8</td>\n",
       "      <td></td>\n",
       "      <td></td>\n",
       "    </tr>\n",
       "  </tbody>\n",
       "</table>\n",
       "</div>"
      ],
      "text/plain": [
       "     Cluster  Number of clusters RI Score RI adjusted score\n",
       "0    K-Means                  10                           \n",
       "0  MeanShift                   8                           "
      ]
     },
     "execution_count": 154,
     "metadata": {},
     "output_type": "execute_result"
    }
   ],
   "source": [
    "#mean shift\n",
    "\n",
    "from sklearn.cluster import MeanShift, estimate_bandwidth\n",
    "\n",
    "# Here we set the bandwidth. This function automatically derives a bandwidth\n",
    "# number based on an inspection of the distances among points in the data.\n",
    "bandwidth = estimate_bandwidth(X_pca, quantile=0.1, n_samples=X_tfidf.shape[0])\n",
    "\n",
    "\n",
    "# Declare and fit the model.\n",
    "ms = MeanShift(bandwidth=bandwidth, bin_seeding=True).fit(X_pca)\n",
    "ms_pred = ms.fit_predict(X_pca)\n",
    "#ms.fit(X_pca)\n",
    "\n",
    "# Extract cluster assignments for each data point.\n",
    "labels = ms.labels_\n",
    "\n",
    "# Coordinates of the cluster centers.\n",
    "cluster_centers = ms.cluster_centers_\n",
    "\n",
    "# Count our clusters.\n",
    "n_clusters_ = len(np.unique(labels))\n",
    "\n",
    "print(\"Number of estimated clusters: {}\".format(n_clusters_))\n",
    "#print (\"Labels identified: {}\".format(labels)) # dosn't tell me much as it is just numbers\n",
    "\n",
    "plt.scatter(X_pca[:, 0], X_pca[:, 1], c=labels)\n",
    "plt.show()\n",
    "\n",
    "#update result table\n",
    "data = [{'Cluster':'MeanShift', 'Number of clusters': n_clusters_, 'RI Score': '',\n",
    "         'RI adjusted score': ''}]\n",
    "\n",
    "d2 = pd.DataFrame(data)\n",
    "df_results = df_results.append(d2) \n",
    "\n",
    "df_results\n"
   ]
  },
  {
   "cell_type": "code",
   "execution_count": 155,
   "metadata": {},
   "outputs": [
    {
     "data": {
      "image/png": "[encoded data removed]",
      "text/plain": [
       "<Figure size 432x288 with 1 Axes>"
      ]
     },
     "metadata": {},
     "output_type": "display_data"
    },
    {
     "data": {
      "text/html": [
       "<div>\n",
       "<style scoped>\n",
       "    .dataframe tbody tr th:only-of-type {\n",
       "        vertical-align: middle;\n",
       "    }\n",
       "\n",
       "    .dataframe tbody tr th {\n",
       "        vertical-align: top;\n",
       "    }\n",
       "\n",
       "    .dataframe thead th {\n",
       "        text-align: right;\n",
       "    }\n",
       "</style>\n",
       "<table border=\"1\" class=\"dataframe\">\n",
       "  <thead>\n",
       "    <tr style=\"text-align: right;\">\n",
       "      <th></th>\n",
       "      <th>Cluster</th>\n",
       "      <th>Number of clusters</th>\n",
       "      <th>RI Score</th>\n",
       "      <th>RI adjusted score</th>\n",
       "    </tr>\n",
       "  </thead>\n",
       "  <tbody>\n",
       "    <tr>\n",
       "      <th>0</th>\n",
       "      <td>K-Means</td>\n",
       "      <td>10</td>\n",
       "      <td></td>\n",
       "      <td></td>\n",
       "    </tr>\n",
       "    <tr>\n",
       "      <th>0</th>\n",
       "      <td>MeanShift</td>\n",
       "      <td>8</td>\n",
       "      <td></td>\n",
       "      <td></td>\n",
       "    </tr>\n",
       "    <tr>\n",
       "      <th>0</th>\n",
       "      <td>SpectralClustering</td>\n",
       "      <td>10</td>\n",
       "      <td></td>\n",
       "      <td></td>\n",
       "    </tr>\n",
       "  </tbody>\n",
       "</table>\n",
       "</div>"
      ],
      "text/plain": [
       "              Cluster  Number of clusters RI Score RI adjusted score\n",
       "0             K-Means                  10                           \n",
       "0           MeanShift                   8                           \n",
       "0  SpectralClustering                  10                           "
      ]
     },
     "execution_count": 155,
     "metadata": {},
     "output_type": "execute_result"
    }
   ],
   "source": [
    "#apectral clustering\n",
    "from sklearn.cluster import SpectralClustering\n",
    "\n",
    "# We know we're looking for three clusters.\n",
    "n_clusters=10\n",
    "\n",
    "# Declare and fit the model.\n",
    "sc = SpectralClustering(n_clusters=n_clusters)\n",
    "sc.fit(X_pca)\n",
    "sc_pred = sc.fit_predict(X_pca)\n",
    "\n",
    "#Predicted clusters.\n",
    "predict=sc.fit_predict(X_pca)\n",
    "\n",
    "#Graph results.\n",
    "plt.scatter(X_pca[:, 0], X_pca[:, 1], c=predict)\n",
    "plt.show()\n",
    "\n",
    "#update result table\n",
    "data = [{'Cluster':'SpectralClustering', 'Number of clusters': n_clusters, 'RI Score': '',\n",
    "         'RI adjusted score': ''}]\n",
    "\n",
    "d2 = pd.DataFrame(data)\n",
    "df_results = df_results.append(d2) \n",
    "\n",
    "df_results"
   ]
  },
  {
   "cell_type": "code",
   "execution_count": 156,
   "metadata": {},
   "outputs": [
    {
     "name": "stdout",
     "output_type": "stream",
     "text": [
      "Estimated number of clusters: 14\n"
     ]
    },
    {
     "data": {
      "text/html": [
       "<div>\n",
       "<style scoped>\n",
       "    .dataframe tbody tr th:only-of-type {\n",
       "        vertical-align: middle;\n",
       "    }\n",
       "\n",
       "    .dataframe tbody tr th {\n",
       "        vertical-align: top;\n",
       "    }\n",
       "\n",
       "    .dataframe thead th {\n",
       "        text-align: right;\n",
       "    }\n",
       "</style>\n",
       "<table border=\"1\" class=\"dataframe\">\n",
       "  <thead>\n",
       "    <tr style=\"text-align: right;\">\n",
       "      <th></th>\n",
       "      <th>Cluster</th>\n",
       "      <th>Number of clusters</th>\n",
       "      <th>RI Score</th>\n",
       "      <th>RI adjusted score</th>\n",
       "    </tr>\n",
       "  </thead>\n",
       "  <tbody>\n",
       "    <tr>\n",
       "      <th>0</th>\n",
       "      <td>K-Means</td>\n",
       "      <td>10</td>\n",
       "      <td></td>\n",
       "      <td></td>\n",
       "    </tr>\n",
       "    <tr>\n",
       "      <th>0</th>\n",
       "      <td>MeanShift</td>\n",
       "      <td>8</td>\n",
       "      <td></td>\n",
       "      <td></td>\n",
       "    </tr>\n",
       "    <tr>\n",
       "      <th>0</th>\n",
       "      <td>SpectralClustering</td>\n",
       "      <td>10</td>\n",
       "      <td></td>\n",
       "      <td></td>\n",
       "    </tr>\n",
       "    <tr>\n",
       "      <th>0</th>\n",
       "      <td>AffinityPropagation</td>\n",
       "      <td>14</td>\n",
       "      <td></td>\n",
       "      <td></td>\n",
       "    </tr>\n",
       "  </tbody>\n",
       "</table>\n",
       "</div>"
      ],
      "text/plain": [
       "               Cluster  Number of clusters RI Score RI adjusted score\n",
       "0              K-Means                  10                           \n",
       "0            MeanShift                   8                           \n",
       "0   SpectralClustering                  10                           \n",
       "0  AffinityPropagation                  14                           "
      ]
     },
     "execution_count": 156,
     "metadata": {},
     "output_type": "execute_result"
    }
   ],
   "source": [
    "from sklearn.cluster import AffinityPropagation\n",
    "from sklearn import metrics\n",
    "\n",
    "# Declare the model and fit it in one statement.\n",
    "# Note that you can provide arguments to the model, but we didn't.\n",
    "af = AffinityPropagation().fit(X_pca)\n",
    "af_pred = af.fit_predict(X_pca)\n",
    "#print('Done')\n",
    "\n",
    "# Pull the number of clusters and cluster assignments for each data point.\n",
    "cluster_centers_indices = af.cluster_centers_indices_\n",
    "n_clusters_ = len(cluster_centers_indices)\n",
    "labels = af.labels_\n",
    "\n",
    "print('Estimated number of clusters: {}'.format(n_clusters_))\n",
    "\n",
    "#update result table\n",
    "data = [{'Cluster':'AffinityPropagation', 'Number of clusters': len(cluster_centers_indices), 'RI Score': '',\n",
    "         'RI adjusted score': ''}]\n",
    "\n",
    "d2 = pd.DataFrame(data)\n",
    "df_results = df_results.append(d2) \n",
    "\n",
    "df_results"
   ]
  },
  {
   "cell_type": "code",
   "execution_count": 157,
   "metadata": {},
   "outputs": [
    {
     "data": {
      "text/html": [
       "<div>\n",
       "<style scoped>\n",
       "    .dataframe tbody tr th:only-of-type {\n",
       "        vertical-align: middle;\n",
       "    }\n",
       "\n",
       "    .dataframe tbody tr th {\n",
       "        vertical-align: top;\n",
       "    }\n",
       "\n",
       "    .dataframe thead th {\n",
       "        text-align: right;\n",
       "    }\n",
       "</style>\n",
       "<table border=\"1\" class=\"dataframe\">\n",
       "  <thead>\n",
       "    <tr style=\"text-align: right;\">\n",
       "      <th></th>\n",
       "      <th>Cluster</th>\n",
       "      <th>Number of clusters</th>\n",
       "      <th>RI Score</th>\n",
       "      <th>RI adjusted score</th>\n",
       "    </tr>\n",
       "  </thead>\n",
       "  <tbody>\n",
       "    <tr>\n",
       "      <th>0</th>\n",
       "      <td>K-Means</td>\n",
       "      <td>10</td>\n",
       "      <td></td>\n",
       "      <td></td>\n",
       "    </tr>\n",
       "    <tr>\n",
       "      <th>1</th>\n",
       "      <td>MeanShift</td>\n",
       "      <td>8</td>\n",
       "      <td></td>\n",
       "      <td></td>\n",
       "    </tr>\n",
       "    <tr>\n",
       "      <th>2</th>\n",
       "      <td>SpectralClustering</td>\n",
       "      <td>10</td>\n",
       "      <td></td>\n",
       "      <td></td>\n",
       "    </tr>\n",
       "    <tr>\n",
       "      <th>3</th>\n",
       "      <td>AffinityPropagation</td>\n",
       "      <td>14</td>\n",
       "      <td></td>\n",
       "      <td></td>\n",
       "    </tr>\n",
       "  </tbody>\n",
       "</table>\n",
       "</div>"
      ],
      "text/plain": [
       "               Cluster  Number of clusters RI Score RI adjusted score\n",
       "0              K-Means                  10                           \n",
       "1            MeanShift                   8                           \n",
       "2   SpectralClustering                  10                           \n",
       "3  AffinityPropagation                  14                           "
      ]
     },
     "execution_count": 157,
     "metadata": {},
     "output_type": "execute_result"
    }
   ],
   "source": [
    "#reset the index so that I can update the RI and adjusted score later.\n",
    "df_results = df_results.reset_index(drop=True)\n",
    "df_results"
   ]
  },
  {
   "cell_type": "code",
   "execution_count": 158,
   "metadata": {},
   "outputs": [
    {
     "data": {
      "image/png": "[encoded data removed]",
      "text/plain": [
       "<Figure size 432x288 with 1 Axes>"
      ]
     },
     "metadata": {},
     "output_type": "display_data"
    }
   ],
   "source": [
    "from itertools import cycle\n",
    "\n",
    "plt.figure(1)\n",
    "plt.clf()\n",
    "\n",
    "# Cycle through each cluster and graph them with a center point for the\n",
    "# exemplar and lines from the exemplar to each data point in the cluster.\n",
    "colors = cycle('bgrcmykbgrcmykbgrcmykbgrcmyk')\n",
    "for k, col in zip(range(n_clusters_), colors):\n",
    "    class_members = labels == k\n",
    "    cluster_center = X_pca[cluster_centers_indices[k]]\n",
    "    plt.plot(X_pca[class_members, 0], X_pca[class_members, 1], col + '.')\n",
    "    plt.plot(cluster_center[0],\n",
    "             cluster_center[1],\n",
    "             'o',\n",
    "             markerfacecolor=col,\n",
    "             markeredgecolor='k')\n",
    "    for x in X_pca[class_members]:\n",
    "        plt.plot([cluster_center[0], x[0]], [cluster_center[1], x[1]], col)\n",
    "\n",
    "plt.title('Estimated number of clusters: {}'.format(n_clusters_))\n",
    "plt.show()"
   ]
  },
  {
   "cell_type": "markdown",
   "metadata": {},
   "source": [
    "# Evaluate the accurcy for each of the clusters"
   ]
  },
  {
   "cell_type": "code",
   "execution_count": 159,
   "metadata": {},
   "outputs": [
    {
     "name": "stdout",
     "output_type": "stream",
     "text": [
      "this is the product of y and y_pred: ('caesar', 2)\n",
      "The RIcounts are: [[('hamlet', 5), 750], [('leaves', 6), 7011], [('thursday', 2), 3776], [('macbeth', 5), 450], [('bryant', 0), 4653], [('moby_dick', 1), 8346], [('brown', 3), 1872], [('ball', 2), 5248], [('thursday', 8), 1652], [('leaves', 5), 3075], [('macbeth', 6), 1026], [('bryant', 5), 1175], [('caesar', 7), 1386], [('brown', 9), 3744], [('moby_dick', 4), 11770], [('brown', 4), 3960], [('ball', 1), 3198], [('leaves', 0), 12177], [('busterbrown', 0), 1584], [('bryant', 6), 2679], [('caesar', 0), 2079], [('moby_dick', 7), 14124], [('hamlet', 1), 1170], [('thursday', 6), 3363], [('macbeth', 1), 702], [('busterbrown', 5), 400], [('ball', 6), 4674], [('hamlet', 4), 1650], [('leaves', 9), 6396], [('thursday', 1), 2301], [('macbeth', 2), 1152], [('busterbrown', 6), 912], [('bryant', 1), 1833], [('moby_dick', 0), 21186], [('brown', 0), 7128], [('ball', 5), 2050], [('hamlet', 7), 1980], [('leaves', 4), 6765], [('macbeth', 7), 1188], [('bryant', 2), 3008], [('caesar', 4), 1155], [('moby_dick', 3), 5564], [('brown', 5), 1800], [('ball', 0), 8118], [('leaves', 3), 3198], [('busterbrown', 1), 624], [('macbeth', 8), 504], [('bryant', 7), 3102], [('moby_dick', 9), 11128], [('caesar', 1), 819], [('moby_dick', 6), 12198], [('brown', 6), 4104], [('hamlet', 0), 2970], [('thursday', 5), 1475], [('busterbrown', 2), 1024], [('bryant', 8), 1316], [('caesar', 2), 1344], [('ball', 9), 4264], [('hamlet', 3), 780], [('leaves', 8), 3444], [('busterbrown', 8), 448], [('thursday', 0), 5841], [('macbeth', 3), 468], [('busterbrown', 7), 1056], [('caesar', 8), 588], [('brown', 1), 2808], [('ball', 4), 4510], [('hamlet', 9), 1560], [('hamlet', 6), 1710], [('leaves', 7), 8118], [('thursday', 3), 1534], [('macbeth', 4), 990], [('bryant', 3), 1222], [('caesar', 5), 525], [('moby_dick', 2), 13696], [('brown', 2), 4608], [('ball', 3), 2132], [('thursday', 9), 3068], [('leaves', 2), 7872], [('macbeth', 9), 936], [('bryant', 4), 2585], [('moby_dick', 8), 5992], [('caesar', 6), 1197], [('brown', 8), 2016], [('moby_dick', 5), 5350], [('brown', 7), 4752], [('thursday', 4), 3245], [('leaves', 1), 4797], [('busterbrown', 3), 416], [('bryant', 9), 2444], [('caesar', 3), 546], [('ball', 8), 2296], [('hamlet', 2), 1920], [('busterbrown', 9), 832], [('thursday', 7), 3894], [('macbeth', 0), 1782], [('busterbrown', 4), 880], [('caesar', 9), 1092], [('ball', 7), 5412], [('hamlet', 8), 840]]\n",
      "The RIscore is: 0.012126185789464623\n",
      "The adjusted rand score is: 0.47539442236396234\n"
     ]
    },
    {
     "data": {
      "text/html": [
       "<div>\n",
       "<style scoped>\n",
       "    .dataframe tbody tr th:only-of-type {\n",
       "        vertical-align: middle;\n",
       "    }\n",
       "\n",
       "    .dataframe tbody tr th {\n",
       "        vertical-align: top;\n",
       "    }\n",
       "\n",
       "    .dataframe thead th {\n",
       "        text-align: right;\n",
       "    }\n",
       "</style>\n",
       "<table border=\"1\" class=\"dataframe\">\n",
       "  <thead>\n",
       "    <tr style=\"text-align: right;\">\n",
       "      <th></th>\n",
       "      <th>Cluster</th>\n",
       "      <th>Number of clusters</th>\n",
       "      <th>RI Score</th>\n",
       "      <th>RI adjusted score</th>\n",
       "    </tr>\n",
       "  </thead>\n",
       "  <tbody>\n",
       "    <tr>\n",
       "      <th>0</th>\n",
       "      <td>K-Means</td>\n",
       "      <td>10</td>\n",
       "      <td>0.0121262</td>\n",
       "      <td>0.475394</td>\n",
       "    </tr>\n",
       "    <tr>\n",
       "      <th>1</th>\n",
       "      <td>MeanShift</td>\n",
       "      <td>8</td>\n",
       "      <td></td>\n",
       "      <td></td>\n",
       "    </tr>\n",
       "    <tr>\n",
       "      <th>2</th>\n",
       "      <td>SpectralClustering</td>\n",
       "      <td>10</td>\n",
       "      <td></td>\n",
       "      <td></td>\n",
       "    </tr>\n",
       "    <tr>\n",
       "      <th>3</th>\n",
       "      <td>AffinityPropagation</td>\n",
       "      <td>14</td>\n",
       "      <td></td>\n",
       "      <td></td>\n",
       "    </tr>\n",
       "  </tbody>\n",
       "</table>\n",
       "</div>"
      ],
      "text/plain": [
       "               Cluster  Number of clusters   RI Score RI adjusted score\n",
       "0              K-Means                  10  0.0121262          0.475394\n",
       "1            MeanShift                   8                             \n",
       "2   SpectralClustering                  10                             \n",
       "3  AffinityPropagation                  14                             "
      ]
     },
     "execution_count": 159,
     "metadata": {},
     "output_type": "execute_result"
    }
   ],
   "source": [
    "# Note: the itertools module is tons of fun and very useful.\n",
    "from sklearn.metrics import silhouette_score\n",
    "import itertools\n",
    "\n",
    "# Create a list of pairs, where each pair is the ground truth group\n",
    "# and the assigned cluster.\n",
    "\n",
    "#y_pred = k-means\n",
    "c = list(itertools.product(y, y_pred))\n",
    "\n",
    "print(\"this is the product of y and y_pred:\",c[21])\n",
    "\n",
    "# Count how often each type of pair (a, b, c, or d) appears.\n",
    "RIcounts = [[x, c.count(x)] for x in set(c)]\n",
    "print(\"The RIcounts are:\", RIcounts)\n",
    "\n",
    "# Create the same counts but without the label, for easier math below.\n",
    "RIcounts_nolabel = [c.count(x) for x in set(c)]\n",
    "\n",
    "# Calculate the Rand Index.\n",
    "#RI score is the ratio of the number of pairs where the ground truth and the new solution \n",
    "#agree, over the total number of pairs.\n",
    "RIscore = (RIcounts_nolabel[3] + RIcounts_nolabel[2]) / np.sum(RIcounts_nolabel)\n",
    "print(\"The RIscore is:\", RIscore)\n",
    "\n",
    "from sklearn import metrics\n",
    "\n",
    "#adjusted rand for k-means\n",
    "RIadjusted = metrics.adjusted_rand_score(y_train, y_pred)\n",
    "print(\"The adjusted rand score is:\",RIadjusted )\n",
    "#print('Silhouette Score: {:0.7}'.format(silhouette_score(X, y_pred, metric='euclidean')))\n",
    "\n",
    "#update the result table with the RI score and adjust score\n",
    "df_results.loc[[0],['RI Score','RI adjusted score']]= RIscore,RIadjusted\n",
    "df_results"
   ]
  },
  {
   "cell_type": "code",
   "execution_count": 160,
   "metadata": {},
   "outputs": [
    {
     "name": "stdout",
     "output_type": "stream",
     "text": [
      "[[('bryant', 7), 470], [('caesar', 1), 2436], [('busterbrown', 5), 432], [('hamlet', 5), 810], [('ball', 3), 4592], [('leaves', 6), 2583], [('thursday', 2), 4720], [('moby_dick', 6), 4494], [('macbeth', 5), 486], [('brown', 6), 1512], [('bryant', 0), 6204], [('leaves', 2), 9840], [('hamlet', 0), 3960], [('ball', 6), 1722], [('moby_dick', 2), 17120], [('thursday', 5), 1593], [('moby_dick', 1), 24824], [('brown', 3), 4032], [('bryant', 4), 3243], [('caesar', 6), 441], [('busterbrown', 2), 1280], [('hamlet', 4), 2070], [('ball', 2), 6560], [('thursday', 1), 6844], [('moby_dick', 5), 5778], [('macbeth', 2), 1440], [('brown', 7), 720], [('caesar', 2), 1680], [('busterbrown', 6), 336], [('bryant', 1), 5452], [('leaves', 5), 3321], [('macbeth', 6), 378], [('thursday', 4), 4071], [('moby_dick', 0), 28248], [('brown', 0), 9504], [('bryant', 5), 1269], [('leaves', 1), 14268], [('caesar', 7), 210], [('busterbrown', 3), 896], [('hamlet', 3), 1680], [('ball', 5), 2214], [('thursday', 0), 7788], [('moby_dick', 4), 14766], [('macbeth', 3), 1008], [('brown', 4), 4968], [('caesar', 3), 1176], [('busterbrown', 7), 160], [('hamlet', 7), 300], [('ball', 1), 9512], [('ball', 7), 820], [('leaves', 4), 8487], [('macbeth', 7), 180], [('brown', 1), 8352], [('bryant', 2), 3760], [('leaves', 0), 16236], [('caesar', 4), 1449], [('busterbrown', 0), 2112], [('hamlet', 2), 2400], [('ball', 4), 5658], [('thursday', 7), 590], [('moby_dick', 3), 11984], [('macbeth', 0), 2376], [('brown', 5), 1944], [('bryant', 6), 987], [('caesar', 0), 2772], [('busterbrown', 4), 1104], [('hamlet', 6), 630], [('ball', 0), 10824], [('leaves', 7), 1230], [('thursday', 3), 3304], [('moby_dick', 7), 2140], [('macbeth', 4), 1242], [('bryant', 3), 2632], [('leaves', 3), 6888], [('caesar', 5), 567], [('busterbrown', 1), 1856], [('hamlet', 1), 3480], [('thursday', 6), 1239], [('macbeth', 1), 2088], [('brown', 2), 5760]]\n",
      "The RIscore is: 0.0035638245978502274\n",
      "The adjusted rand score is: 0.4650320876652376\n"
     ]
    },
    {
     "data": {
      "text/html": [
       "<div>\n",
       "<style scoped>\n",
       "    .dataframe tbody tr th:only-of-type {\n",
       "        vertical-align: middle;\n",
       "    }\n",
       "\n",
       "    .dataframe tbody tr th {\n",
       "        vertical-align: top;\n",
       "    }\n",
       "\n",
       "    .dataframe thead th {\n",
       "        text-align: right;\n",
       "    }\n",
       "</style>\n",
       "<table border=\"1\" class=\"dataframe\">\n",
       "  <thead>\n",
       "    <tr style=\"text-align: right;\">\n",
       "      <th></th>\n",
       "      <th>Cluster</th>\n",
       "      <th>Number of clusters</th>\n",
       "      <th>RI Score</th>\n",
       "      <th>RI adjusted score</th>\n",
       "    </tr>\n",
       "  </thead>\n",
       "  <tbody>\n",
       "    <tr>\n",
       "      <th>0</th>\n",
       "      <td>K-Means</td>\n",
       "      <td>10</td>\n",
       "      <td>0.0121262</td>\n",
       "      <td>0.475394</td>\n",
       "    </tr>\n",
       "    <tr>\n",
       "      <th>1</th>\n",
       "      <td>MeanShift</td>\n",
       "      <td>8</td>\n",
       "      <td>0.00356382</td>\n",
       "      <td>0.465032</td>\n",
       "    </tr>\n",
       "    <tr>\n",
       "      <th>2</th>\n",
       "      <td>SpectralClustering</td>\n",
       "      <td>10</td>\n",
       "      <td></td>\n",
       "      <td></td>\n",
       "    </tr>\n",
       "    <tr>\n",
       "      <th>3</th>\n",
       "      <td>AffinityPropagation</td>\n",
       "      <td>14</td>\n",
       "      <td></td>\n",
       "      <td></td>\n",
       "    </tr>\n",
       "  </tbody>\n",
       "</table>\n",
       "</div>"
      ],
      "text/plain": [
       "               Cluster  Number of clusters    RI Score RI adjusted score\n",
       "0              K-Means                  10   0.0121262          0.475394\n",
       "1            MeanShift                   8  0.00356382          0.465032\n",
       "2   SpectralClustering                  10                              \n",
       "3  AffinityPropagation                  14                              "
      ]
     },
     "execution_count": 160,
     "metadata": {},
     "output_type": "execute_result"
    }
   ],
   "source": [
    "# Note: the itertools module is tons of fun and very useful.\n",
    "import itertools\n",
    "\n",
    "# Create a list of pairs, where each pair is the ground truth group\n",
    "# and the assigned cluster.\n",
    "#y_pred = mean shift\n",
    "c = list(itertools.product(y, ms_pred))\n",
    "\n",
    "# Count how often each type of pair (a, b, c, or d) appears.\n",
    "RIcounts = [[x, c.count(x)] for x in set(c)]\n",
    "print(RIcounts)\n",
    "\n",
    "# Create the same counts but without the label, for easier math below.\n",
    "RIcounts_nolabel = [c.count(x) for x in set(c)]\n",
    "\n",
    "# Calculate the Rand Index.\n",
    "RIscore = (RIcounts_nolabel[3] + RIcounts_nolabel[2]) / np.sum(RIcounts_nolabel)\n",
    "print(\"The RIscore is:\",RIscore)\n",
    "\n",
    "#adjusted rand for k-means\n",
    "RIadjusted = metrics.adjusted_rand_score(y_train, ms_pred)\n",
    "print(\"The adjusted rand score is:\",RIadjusted)\n",
    "\n",
    "\n",
    "#update the result table with the RI score and adjust score\n",
    "df_results.loc[[1],['RI Score','RI adjusted score']]= RIscore,RIadjusted\n",
    "df_results"
   ]
  },
  {
   "cell_type": "code",
   "execution_count": 161,
   "metadata": {},
   "outputs": [
    {
     "name": "stdout",
     "output_type": "stream",
     "text": [
      "[[('hamlet', 5), 30], [('leaves', 6), 5781], [('thursday', 2), 2537], [('macbeth', 5), 18], [('bryant', 0), 4794], [('moby_dick', 1), 23754], [('brown', 3), 72], [('ball', 2), 3526], [('thursday', 8), 59], [('leaves', 5), 123], [('macbeth', 6), 846], [('bryant', 5), 47], [('caesar', 7), 3192], [('brown', 9), 72], [('moby_dick', 4), 11128], [('brown', 4), 3744], [('ball', 1), 9102], [('leaves', 0), 12546], [('busterbrown', 0), 1632], [('bryant', 6), 2209], [('caesar', 0), 2142], [('moby_dick', 7), 32528], [('hamlet', 1), 3330], [('thursday', 6), 2773], [('macbeth', 1), 1998], [('busterbrown', 5), 16], [('ball', 6), 3854], [('hamlet', 4), 1560], [('leaves', 9), 123], [('thursday', 1), 6549], [('macbeth', 2), 774], [('busterbrown', 6), 752], [('bryant', 1), 5217], [('moby_dick', 0), 21828], [('brown', 0), 7344], [('ball', 5), 82], [('hamlet', 7), 4560], [('leaves', 4), 6396], [('macbeth', 7), 2736], [('bryant', 2), 2021], [('caesar', 4), 1092], [('moby_dick', 3), 214], [('brown', 5), 72], [('ball', 0), 8364], [('leaves', 3), 123], [('busterbrown', 1), 1776], [('macbeth', 8), 18], [('bryant', 7), 7144], [('moby_dick', 9), 214], [('caesar', 1), 2331], [('moby_dick', 6), 10058], [('brown', 6), 3384], [('hamlet', 0), 3060], [('thursday', 5), 59], [('busterbrown', 2), 688], [('bryant', 8), 47], [('caesar', 2), 903], [('ball', 9), 82], [('hamlet', 3), 30], [('leaves', 8), 123], [('busterbrown', 8), 16], [('thursday', 0), 6018], [('macbeth', 3), 18], [('busterbrown', 7), 2432], [('caesar', 8), 21], [('brown', 1), 7992], [('ball', 4), 4264], [('hamlet', 9), 30], [('hamlet', 6), 1410], [('leaves', 7), 18696], [('thursday', 3), 59], [('macbeth', 4), 936], [('bryant', 3), 47], [('caesar', 5), 21], [('moby_dick', 2), 9202], [('brown', 2), 3096], [('ball', 3), 82], [('thursday', 9), 59], [('leaves', 2), 5289], [('macbeth', 9), 18], [('bryant', 4), 2444], [('moby_dick', 8), 214], [('caesar', 6), 987], [('brown', 8), 72], [('moby_dick', 5), 214], [('brown', 7), 10944], [('thursday', 4), 3068], [('leaves', 1), 13653], [('busterbrown', 3), 16], [('bryant', 9), 47], [('caesar', 3), 21], [('ball', 8), 82], [('hamlet', 2), 1290], [('busterbrown', 9), 16], [('thursday', 7), 8968], [('macbeth', 0), 1836], [('busterbrown', 4), 832], [('caesar', 9), 21], [('ball', 7), 12464], [('hamlet', 8), 30]]\n",
      "The RIscore is: 0.007331378299120235\n",
      "The adjusted rand score is: 0.4926887534218416\n"
     ]
    },
    {
     "data": {
      "text/html": [
       "<div>\n",
       "<style scoped>\n",
       "    .dataframe tbody tr th:only-of-type {\n",
       "        vertical-align: middle;\n",
       "    }\n",
       "\n",
       "    .dataframe tbody tr th {\n",
       "        vertical-align: top;\n",
       "    }\n",
       "\n",
       "    .dataframe thead th {\n",
       "        text-align: right;\n",
       "    }\n",
       "</style>\n",
       "<table border=\"1\" class=\"dataframe\">\n",
       "  <thead>\n",
       "    <tr style=\"text-align: right;\">\n",
       "      <th></th>\n",
       "      <th>Cluster</th>\n",
       "      <th>Number of clusters</th>\n",
       "      <th>RI Score</th>\n",
       "      <th>RI adjusted score</th>\n",
       "    </tr>\n",
       "  </thead>\n",
       "  <tbody>\n",
       "    <tr>\n",
       "      <th>0</th>\n",
       "      <td>K-Means</td>\n",
       "      <td>10</td>\n",
       "      <td>0.0121262</td>\n",
       "      <td>0.475394</td>\n",
       "    </tr>\n",
       "    <tr>\n",
       "      <th>1</th>\n",
       "      <td>MeanShift</td>\n",
       "      <td>8</td>\n",
       "      <td>0.00356382</td>\n",
       "      <td>0.465032</td>\n",
       "    </tr>\n",
       "    <tr>\n",
       "      <th>2</th>\n",
       "      <td>SpectralClustering</td>\n",
       "      <td>10</td>\n",
       "      <td>0.00733138</td>\n",
       "      <td>0.492689</td>\n",
       "    </tr>\n",
       "    <tr>\n",
       "      <th>3</th>\n",
       "      <td>AffinityPropagation</td>\n",
       "      <td>14</td>\n",
       "      <td></td>\n",
       "      <td></td>\n",
       "    </tr>\n",
       "  </tbody>\n",
       "</table>\n",
       "</div>"
      ],
      "text/plain": [
       "               Cluster  Number of clusters    RI Score RI adjusted score\n",
       "0              K-Means                  10   0.0121262          0.475394\n",
       "1            MeanShift                   8  0.00356382          0.465032\n",
       "2   SpectralClustering                  10  0.00733138          0.492689\n",
       "3  AffinityPropagation                  14                              "
      ]
     },
     "execution_count": 161,
     "metadata": {},
     "output_type": "execute_result"
    }
   ],
   "source": [
    "# Note: the itertools module is tons of fun and very useful.\n",
    "import itertools\n",
    "\n",
    "# Create a list of pairs, where each pair is the ground truth group\n",
    "# and the assigned cluster.\n",
    "#y_pred = spectural clustering\n",
    "c = list(itertools.product(y, sc_pred))\n",
    "\n",
    "# Count how often each type of pair (a, b, c, or d) appears.\n",
    "RIcounts = [[x, c.count(x)] for x in set(c)]\n",
    "print(RIcounts)\n",
    "\n",
    "# Create the same counts but without the label, for easier math below.\n",
    "RIcounts_nolabel = [c.count(x) for x in set(c)]\n",
    "\n",
    "# Calculate the Rand Index.\n",
    "RIscore = (RIcounts_nolabel[3] + RIcounts_nolabel[2]) / np.sum(RIcounts_nolabel)\n",
    "print(\"The RIscore is:\",RIscore)\n",
    "\n",
    "#adjusted rand for k-means\n",
    "RIadjusted = metrics.adjusted_rand_score(y_train, sc_pred)\n",
    "print(\"The adjusted rand score is:\",RIadjusted)\n",
    "\n",
    "\n",
    "#update the result table with the RI score and adjust score\n",
    "df_results.loc[[2],['RI Score','RI adjusted score']]= RIscore,RIadjusted\n",
    "df_results"
   ]
  },
  {
   "cell_type": "code",
   "execution_count": 162,
   "metadata": {},
   "outputs": [
    {
     "name": "stdout",
     "output_type": "stream",
     "text": [
      "[[('thursday', 13), 1652], [('hamlet', 5), 1200], [('leaves', 6), 3075], [('busterbrown', 10), 720], [('thursday', 2), 3009], [('macbeth', 5), 720], [('bryant', 0), 1316], [('caesar', 10), 945], [('moby_dick', 1), 10272], [('brown', 3), 1008], [('ball', 2), 4182], [('hamlet', 11), 1050], [('thursday', 8), 1180], [('leaves', 5), 4920], [('macbeth', 6), 450], [('bryant', 5), 1880], [('caesar', 7), 357], [('brown', 9), 3672], [('moby_dick', 4), 6634], [('ball', 12), 6396], [('brown', 4), 2232], [('ball', 1), 3936], [('thursday', 11), 2065], [('leaves', 0), 3444], [('busterbrown', 0), 448], [('macbeth', 11), 630], [('caesar', 13), 588], [('bryant', 6), 1175], [('moby_dick', 10), 9630], [('caesar', 0), 588], [('brown', 10), 3240], [('moby_dick', 7), 3638], [('ball', 11), 2870], [('hamlet', 1), 1440], [('leaves', 10), 5535], [('thursday', 6), 1475], [('macbeth', 1), 864], [('busterbrown', 5), 640], [('macbeth', 12), 1404], [('bryant', 11), 1645], [('moby_dick', 13), 5992], [('ball', 6), 2050], [('thursday', 12), 4602], [('hamlet', 4), 930], [('leaves', 9), 6273], [('busterbrown', 11), 560], [('thursday', 1), 2832], [('macbeth', 2), 918], [('busterbrown', 6), 400], [('bryant', 1), 2256], [('caesar', 11), 735], [('bryant', 12), 3666], [('moby_dick', 0), 5992], [('brown', 0), 2016], [('ball', 5), 3280], [('hamlet', 10), 1350], [('hamlet', 7), 510], [('leaves', 4), 3813], [('busterbrown', 12), 1248], [('macbeth', 7), 306], [('bryant', 2), 2397], [('caesar', 4), 651], [('moby_dick', 3), 2996], [('brown', 5), 2880], [('ball', 0), 2296], [('hamlet', 13), 840], [('thursday', 10), 2655], [('leaves', 3), 1722], [('busterbrown', 1), 768], [('macbeth', 8), 360], [('bryant', 7), 799], [('moby_dick', 9), 10914], [('caesar', 1), 1008], [('brown', 11), 2520], [('moby_dick', 6), 5350], [('ball', 10), 3690], [('brown', 6), 1800], [('hamlet', 0), 840], [('leaves', 13), 3444], [('thursday', 5), 2360], [('busterbrown', 2), 816], [('macbeth', 13), 504], [('bryant', 8), 940], [('moby_dick', 12), 16692], [('caesar', 2), 1071], [('brown', 12), 5616], [('ball', 9), 4182], [('hamlet', 3), 420], [('leaves', 8), 2460], [('busterbrown', 8), 320], [('thursday', 0), 1652], [('macbeth', 3), 252], [('busterbrown', 7), 272], [('caesar', 8), 420], [('bryant', 13), 1316], [('brown', 1), 3456], [('ball', 4), 2542], [('hamlet', 9), 1530], [('hamlet', 6), 750], [('leaves', 7), 2091], [('busterbrown', 13), 448], [('thursday', 3), 826], [('macbeth', 4), 558], [('bryant', 3), 658], [('caesar', 5), 840], [('moby_dick', 2), 10914], [('brown', 2), 3672], [('ball', 3), 1148], [('hamlet', 12), 2340], [('thursday', 9), 3009], [('leaves', 2), 6273], [('macbeth', 9), 918], [('bryant', 4), 1457], [('moby_dick', 8), 4280], [('caesar', 6), 525], [('brown', 8), 1440], [('moby_dick', 5), 8560], [('ball', 13), 2296], [('brown', 7), 1224], [('leaves', 12), 9594], [('thursday', 4), 1829], [('leaves', 1), 5904], [('busterbrown', 3), 224], [('macbeth', 10), 810], [('caesar', 12), 1638], [('bryant', 9), 2397], [('moby_dick', 11), 7490], [('caesar', 3), 294], [('brown', 13), 2016], [('ball', 8), 1640], [('hamlet', 2), 1530], [('leaves', 11), 4305], [('busterbrown', 9), 816], [('thursday', 7), 1003], [('macbeth', 0), 504], [('busterbrown', 4), 496], [('caesar', 9), 1071], [('bryant', 10), 2115], [('ball', 7), 1394], [('hamlet', 8), 600]]\n",
      "The RIscore is: 0.010889464048986806\n",
      "The adjusted rand score is: 0.38492404623302484\n"
     ]
    },
    {
     "data": {
      "text/html": [
       "<div>\n",
       "<style scoped>\n",
       "    .dataframe tbody tr th:only-of-type {\n",
       "        vertical-align: middle;\n",
       "    }\n",
       "\n",
       "    .dataframe tbody tr th {\n",
       "        vertical-align: top;\n",
       "    }\n",
       "\n",
       "    .dataframe thead th {\n",
       "        text-align: right;\n",
       "    }\n",
       "</style>\n",
       "<table border=\"1\" class=\"dataframe\">\n",
       "  <thead>\n",
       "    <tr style=\"text-align: right;\">\n",
       "      <th></th>\n",
       "      <th>Cluster</th>\n",
       "      <th>Number of clusters</th>\n",
       "      <th>RI Score</th>\n",
       "      <th>RI adjusted score</th>\n",
       "    </tr>\n",
       "  </thead>\n",
       "  <tbody>\n",
       "    <tr>\n",
       "      <th>0</th>\n",
       "      <td>K-Means</td>\n",
       "      <td>10</td>\n",
       "      <td>0.0121262</td>\n",
       "      <td>0.475394</td>\n",
       "    </tr>\n",
       "    <tr>\n",
       "      <th>1</th>\n",
       "      <td>MeanShift</td>\n",
       "      <td>8</td>\n",
       "      <td>0.00356382</td>\n",
       "      <td>0.465032</td>\n",
       "    </tr>\n",
       "    <tr>\n",
       "      <th>2</th>\n",
       "      <td>SpectralClustering</td>\n",
       "      <td>10</td>\n",
       "      <td>0.00733138</td>\n",
       "      <td>0.492689</td>\n",
       "    </tr>\n",
       "    <tr>\n",
       "      <th>3</th>\n",
       "      <td>AffinityPropagation</td>\n",
       "      <td>14</td>\n",
       "      <td>0.0108895</td>\n",
       "      <td>0.384924</td>\n",
       "    </tr>\n",
       "  </tbody>\n",
       "</table>\n",
       "</div>"
      ],
      "text/plain": [
       "               Cluster  Number of clusters    RI Score RI adjusted score\n",
       "0              K-Means                  10   0.0121262          0.475394\n",
       "1            MeanShift                   8  0.00356382          0.465032\n",
       "2   SpectralClustering                  10  0.00733138          0.492689\n",
       "3  AffinityPropagation                  14   0.0108895          0.384924"
      ]
     },
     "execution_count": 162,
     "metadata": {},
     "output_type": "execute_result"
    }
   ],
   "source": [
    "# Note: the itertools module is tons of fun and very useful.\n",
    "import itertools\n",
    "\n",
    "# Create a list of pairs, where each pair is the ground truth group\n",
    "# and the assigned cluster.\n",
    "#y_pred = affinity propergation\n",
    "c = list(itertools.product(y, af_pred))\n",
    "\n",
    "# Count how often each type of pair (a, b, c, or d) appears.\n",
    "RIcounts = [[x, c.count(x)] for x in set(c)]\n",
    "print(RIcounts)\n",
    "\n",
    "# Create the same counts but without the label, for easier math below.\n",
    "RIcounts_nolabel = [c.count(x) for x in set(c)]\n",
    "\n",
    "# Calculate the Rand Index.\n",
    "RIscore = (RIcounts_nolabel[3] + RIcounts_nolabel[2]) / np.sum(RIcounts_nolabel)\n",
    "print(\"The RIscore is:\",RIscore)\n",
    "\n",
    "#adjusted rand for k-means\n",
    "RIadjusted = metrics.adjusted_rand_score(y_train, af_pred)\n",
    "print(\"The adjusted rand score is:\",RIadjusted)\n",
    "\n",
    "#update the result table with the RI score and adjust score\n",
    "df_results.loc[[3],['RI Score','RI adjusted score']]= RIscore,RIadjusted\n",
    "df_results"
   ]
  },
  {
   "cell_type": "code",
   "execution_count": 163,
   "metadata": {},
   "outputs": [],
   "source": [
    "# In summation based on my results table none of my clusters are predicting a 100% agreement\n",
    "# between my ground truth and my solution but MeanShift is the cluster that is predicting \n",
    "# the higher RI adjusted score and implies it is predicting the most accurate number of\n",
    "# clusters. "
   ]
  },
  {
   "cell_type": "code",
   "execution_count": 182,
   "metadata": {},
   "outputs": [
    {
     "ename": "ValueError",
     "evalue": "Mix of label input types (string and number)",
     "output_type": "error",
     "traceback": [
      "\u001b[0;31m---------------------------------------------------------------------------\u001b[0m",
      "\u001b[0;31mValueError\u001b[0m                                Traceback (most recent call last)",
      "\u001b[0;32m<ipython-input-182-1de5e82f452c>\u001b[0m in \u001b[0;36m<module>\u001b[0;34m()\u001b[0m\n\u001b[1;32m      3\u001b[0m \u001b[0;34m\u001b[0m\u001b[0m\n\u001b[1;32m      4\u001b[0m \u001b[0;32mfrom\u001b[0m \u001b[0msklearn\u001b[0m\u001b[0;34m.\u001b[0m\u001b[0mmetrics\u001b[0m \u001b[0;32mimport\u001b[0m \u001b[0mconfusion_matrix\u001b[0m\u001b[0;34m\u001b[0m\u001b[0m\n\u001b[0;32m----> 5\u001b[0;31m \u001b[0mmat\u001b[0m \u001b[0;34m=\u001b[0m \u001b[0mconfusion_matrix\u001b[0m\u001b[0;34m(\u001b[0m\u001b[0my_train\u001b[0m\u001b[0;34m,\u001b[0m\u001b[0maf\u001b[0m\u001b[0;34m.\u001b[0m\u001b[0mlabels_\u001b[0m\u001b[0;34m)\u001b[0m\u001b[0;34m\u001b[0m\u001b[0m\n\u001b[0m\u001b[1;32m      6\u001b[0m sns.heatmap(mat.T, square=True, annot=True, fmt='d', cbar=False,\n\u001b[1;32m      7\u001b[0m             \u001b[0mxticklabels\u001b[0m\u001b[0;34m=\u001b[0m\u001b[0my_train\u001b[0m\u001b[0;34m,\u001b[0m\u001b[0;34m\u001b[0m\u001b[0m\n",
      "\u001b[0;32m~/anaconda3/lib/python3.6/site-packages/sklearn/metrics/classification.py\u001b[0m in \u001b[0;36mconfusion_matrix\u001b[0;34m(y_true, y_pred, labels, sample_weight)\u001b[0m\n\u001b[1;32m    256\u001b[0m \u001b[0;34m\u001b[0m\u001b[0m\n\u001b[1;32m    257\u001b[0m     \u001b[0;32mif\u001b[0m \u001b[0mlabels\u001b[0m \u001b[0;32mis\u001b[0m \u001b[0;32mNone\u001b[0m\u001b[0;34m:\u001b[0m\u001b[0;34m\u001b[0m\u001b[0m\n\u001b[0;32m--> 258\u001b[0;31m         \u001b[0mlabels\u001b[0m \u001b[0;34m=\u001b[0m \u001b[0munique_labels\u001b[0m\u001b[0;34m(\u001b[0m\u001b[0my_true\u001b[0m\u001b[0;34m,\u001b[0m \u001b[0my_pred\u001b[0m\u001b[0;34m)\u001b[0m\u001b[0;34m\u001b[0m\u001b[0m\n\u001b[0m\u001b[1;32m    259\u001b[0m     \u001b[0;32melse\u001b[0m\u001b[0;34m:\u001b[0m\u001b[0;34m\u001b[0m\u001b[0m\n\u001b[1;32m    260\u001b[0m         \u001b[0mlabels\u001b[0m \u001b[0;34m=\u001b[0m \u001b[0mnp\u001b[0m\u001b[0;34m.\u001b[0m\u001b[0masarray\u001b[0m\u001b[0;34m(\u001b[0m\u001b[0mlabels\u001b[0m\u001b[0;34m)\u001b[0m\u001b[0;34m\u001b[0m\u001b[0m\n",
      "\u001b[0;32m~/anaconda3/lib/python3.6/site-packages/sklearn/utils/multiclass.py\u001b[0m in \u001b[0;36munique_labels\u001b[0;34m(*ys)\u001b[0m\n\u001b[1;32m    100\u001b[0m     \u001b[0;31m# Check that we don't mix string type with number type\u001b[0m\u001b[0;34m\u001b[0m\u001b[0;34m\u001b[0m\u001b[0m\n\u001b[1;32m    101\u001b[0m     \u001b[0;32mif\u001b[0m \u001b[0;34m(\u001b[0m\u001b[0mlen\u001b[0m\u001b[0;34m(\u001b[0m\u001b[0mset\u001b[0m\u001b[0;34m(\u001b[0m\u001b[0misinstance\u001b[0m\u001b[0;34m(\u001b[0m\u001b[0mlabel\u001b[0m\u001b[0;34m,\u001b[0m \u001b[0mstring_types\u001b[0m\u001b[0;34m)\u001b[0m \u001b[0;32mfor\u001b[0m \u001b[0mlabel\u001b[0m \u001b[0;32min\u001b[0m \u001b[0mys_labels\u001b[0m\u001b[0;34m)\u001b[0m\u001b[0;34m)\u001b[0m \u001b[0;34m>\u001b[0m \u001b[0;36m1\u001b[0m\u001b[0;34m)\u001b[0m\u001b[0;34m:\u001b[0m\u001b[0;34m\u001b[0m\u001b[0m\n\u001b[0;32m--> 102\u001b[0;31m         \u001b[0;32mraise\u001b[0m \u001b[0mValueError\u001b[0m\u001b[0;34m(\u001b[0m\u001b[0;34m\"Mix of label input types (string and number)\"\u001b[0m\u001b[0;34m)\u001b[0m\u001b[0;34m\u001b[0m\u001b[0m\n\u001b[0m\u001b[1;32m    103\u001b[0m \u001b[0;34m\u001b[0m\u001b[0m\n\u001b[1;32m    104\u001b[0m     \u001b[0;32mreturn\u001b[0m \u001b[0mnp\u001b[0m\u001b[0;34m.\u001b[0m\u001b[0marray\u001b[0m\u001b[0;34m(\u001b[0m\u001b[0msorted\u001b[0m\u001b[0;34m(\u001b[0m\u001b[0mys_labels\u001b[0m\u001b[0;34m)\u001b[0m\u001b[0;34m)\u001b[0m\u001b[0;34m\u001b[0m\u001b[0m\n",
      "\u001b[0;31mValueError\u001b[0m: Mix of label input types (string and number)"
     ]
    }
   ],
   "source": [
    "#Heat map use cluster label vs origial label \n",
    "#%of each source cluster togethers\n",
    "\n",
    "from sklearn.metrics import confusion_matrix\n",
    "mat = confusion_matrix(y_train,af.labels_)\n",
    "sns.heatmap(mat.T, square=True, annot=True, fmt='d', cbar=False,\n",
    "            xticklabels=y_train,\n",
    "            yticklabels=af.labels_)\n",
    "plt.xlabel('true label')\n",
    "plt.ylabel('predicted label');\n"
   ]
  },
  {
   "cell_type": "markdown",
   "metadata": {},
   "source": [
    "# Generate Models"
   ]
  },
  {
   "cell_type": "code",
   "execution_count": 165,
   "metadata": {},
   "outputs": [],
   "source": [
    "#my data is already in a train_test split file no need to do it again."
   ]
  },
  {
   "cell_type": "code",
   "execution_count": 166,
   "metadata": {},
   "outputs": [
    {
     "name": "stdout",
     "output_type": "stream",
     "text": [
      "Training set score: 0.9882583170254403\n",
      "\n",
      "Test set score: 0.9883040935672515\n"
     ]
    },
    {
     "name": "stderr",
     "output_type": "stream",
     "text": [
      "/Users/karenmcgee/anaconda3/lib/python3.6/site-packages/sklearn/model_selection/_split.py:626: Warning: The least populated class in y has only 3 members, which is too few. The minimum number of members in any class cannot be less than n_splits=5.\n",
      "  % (min_groups, self.n_splits)), Warning)\n"
     ]
    },
    {
     "name": "stdout",
     "output_type": "stream",
     "text": [
      "RFC Training mean set score: 0.9786117517268057\n",
      "RFC Testing mean set score: 0.9363743799727022\n",
      "[[15  0  0  0  0  0  0  0  0  0]\n",
      " [ 0 18  0  0  0  0  0  0  0  0]\n",
      " [ 0  1 14  0  0  0  1  0  0  0]\n",
      " [ 0  0  0  3  0  0  0  0  0  0]\n",
      " [ 0  0  0  0  7  0  0  0  0  0]\n",
      " [ 0  0  0  0  0  9  0  0  0  0]\n",
      " [ 0  0  0  0  0  0 22  0  0  0]\n",
      " [ 0  0  0  0  0  0  0  5  0  0]\n",
      " [ 0  0  0  0  0  0  0  0 56  0]\n",
      " [ 0  0  0  0  0  0  0  0  0 20]]\n",
      "              precision    recall  f1-score   support\n",
      "\n",
      "        ball       1.00      1.00      1.00        15\n",
      "       brown       0.95      1.00      0.97        18\n",
      "      bryant       1.00      0.88      0.93        16\n",
      " busterbrown       1.00      1.00      1.00         3\n",
      "      caesar       1.00      1.00      1.00         7\n",
      "      hamlet       1.00      1.00      1.00         9\n",
      "      leaves       0.96      1.00      0.98        22\n",
      "     macbeth       1.00      1.00      1.00         5\n",
      "   moby_dick       1.00      1.00      1.00        56\n",
      "    thursday       1.00      1.00      1.00        20\n",
      "\n",
      "   micro avg       0.99      0.99      0.99       171\n",
      "   macro avg       0.99      0.99      0.99       171\n",
      "weighted avg       0.99      0.99      0.99       171\n",
      "\n",
      "0.9883040935672515\n"
     ]
    }
   ],
   "source": [
    "#instantiate the estimator (other names can be clf or and look for the 1 nearest neighbor)\n",
    "#find accuracy on y_test and y_predictions\n",
    "\n",
    "from sklearn.neighbors import KNeighborsClassifier\n",
    "from sklearn.metrics import accuracy_score\n",
    "\n",
    "\n",
    "from sklearn import ensemble\n",
    "from sklearn.model_selection import train_test_split\n",
    "\n",
    "knn = KNeighborsClassifier(n_neighbors=10)\n",
    "train = knn.fit(X_train, y_train)\n",
    "y_pred = knn.predict(X_test)\n",
    "\n",
    "print('Training set score:', knn.score(X_train, y_train))\n",
    "print('\\nTest set score:', knn.score(X_test, y_test))\n",
    "#print('\\nTraining std score:', rfc (X_test, y_test))\n",
    "#print('\\nTest std score:', rfc.score(X_test, y_test))\n",
    "\n",
    "\n",
    "\n",
    "#compare the training and testing results using cross validation\n",
    "from sklearn.model_selection import cross_val_score\n",
    "cv_results_train = cross_val_score(knn, X_train, y_train, cv=5)\n",
    "cv_results_test = cross_val_score(knn, X_test, y_test, cv=5)\n",
    "print('RFC Training mean set score:', cv_results_train.mean())\n",
    "#print('RFC Training set score:', cv_results_train)\n",
    "print('RFC Testing mean set score:', cv_results_test.mean())\n",
    "#print('RFC Testing set score:', cv_results_test)\n",
    "\n",
    "\n",
    "\n",
    "from sklearn.metrics import classification_report, confusion_matrix, accuracy_score\n",
    "\n",
    "print(confusion_matrix(y_test,y_pred))  \n",
    "print(classification_report(y_test,y_pred))  \n",
    "print(accuracy_score(y_test, y_pred))  "
   ]
  },
  {
   "cell_type": "code",
   "execution_count": 167,
   "metadata": {},
   "outputs": [
    {
     "name": "stdout",
     "output_type": "stream",
     "text": [
      "Training set score: 1.0\n",
      "\n",
      "Test set score: 0.9941520467836257\n"
     ]
    },
    {
     "name": "stderr",
     "output_type": "stream",
     "text": [
      "/Users/karenmcgee/anaconda3/lib/python3.6/site-packages/sklearn/model_selection/_split.py:626: Warning: The least populated class in y has only 3 members, which is too few. The minimum number of members in any class cannot be less than n_splits=5.\n",
      "  % (min_groups, self.n_splits)), Warning)\n"
     ]
    },
    {
     "name": "stdout",
     "output_type": "stream",
     "text": [
      "RFC Training mean set score: 0.9942846872753414\n",
      "RFC Testing mean set score: 0.9827296736464819\n",
      "[[15  0  0  0  0  0  0  0  0  0]\n",
      " [ 0 18  0  0  0  0  0  0  0  0]\n",
      " [ 0  0 15  0  0  0  0  0  1  0]\n",
      " [ 0  0  0  3  0  0  0  0  0  0]\n",
      " [ 0  0  0  0  7  0  0  0  0  0]\n",
      " [ 0  0  0  0  0  9  0  0  0  0]\n",
      " [ 0  0  0  0  0  0 22  0  0  0]\n",
      " [ 0  0  0  0  0  0  0  5  0  0]\n",
      " [ 0  0  0  0  0  0  0  0 56  0]\n",
      " [ 0  0  0  0  0  0  0  0  0 20]]\n",
      "              precision    recall  f1-score   support\n",
      "\n",
      "        ball       1.00      1.00      1.00        15\n",
      "       brown       1.00      1.00      1.00        18\n",
      "      bryant       1.00      0.94      0.97        16\n",
      " busterbrown       1.00      1.00      1.00         3\n",
      "      caesar       1.00      1.00      1.00         7\n",
      "      hamlet       1.00      1.00      1.00         9\n",
      "      leaves       1.00      1.00      1.00        22\n",
      "     macbeth       1.00      1.00      1.00         5\n",
      "   moby_dick       0.98      1.00      0.99        56\n",
      "    thursday       1.00      1.00      1.00        20\n",
      "\n",
      "   micro avg       0.99      0.99      0.99       171\n",
      "   macro avg       1.00      0.99      1.00       171\n",
      "weighted avg       0.99      0.99      0.99       171\n",
      "\n",
      "0.9941520467836257\n"
     ]
    }
   ],
   "source": [
    "#instantiate the estimator (other names can be clf or and look for the 1 nearest neighbor)\n",
    "#find accuracy on y_test and y_predictions\n",
    "\n",
    "from sklearn.svm import LinearSVC\n",
    "from sklearn.metrics import accuracy_score\n",
    "\n",
    "\n",
    "from sklearn import ensemble\n",
    "from sklearn.model_selection import train_test_split\n",
    "\n",
    "svc = LinearSVC()\n",
    "train = svc.fit(X_train, y_train)\n",
    "y_pred = svc.predict(X_test)\n",
    "\n",
    "print('Training set score:', svc.score(X_train, y_train))\n",
    "print('\\nTest set score:', svc.score(X_test, y_test))\n",
    "#print('\\nTraining std score:', rfc (X_test, y_test))\n",
    "#print('\\nTest std score:', rfc.score(X_test, y_test))\n",
    "\n",
    "\n",
    "\n",
    "#compare the training and testing results using cross validation\n",
    "from sklearn.model_selection import cross_val_score\n",
    "cv_results_train = cross_val_score(svc, X_train, y_train, cv=5)\n",
    "cv_results_test = cross_val_score(svc, X_test, y_test, cv=5)\n",
    "print('RFC Training mean set score:', cv_results_train.mean())\n",
    "#print('RFC Training set score:', cv_results_train)\n",
    "print('RFC Testing mean set score:', cv_results_test.mean())\n",
    "#print('RFC Testing set score:', cv_results_test)\n",
    "\n",
    "print(confusion_matrix(y_test,y_pred))  \n",
    "print(classification_report(y_test,y_pred))  \n",
    "print(accuracy_score(y_test, y_pred))  "
   ]
  },
  {
   "cell_type": "code",
   "execution_count": 168,
   "metadata": {},
   "outputs": [
    {
     "name": "stdout",
     "output_type": "stream",
     "text": [
      "Training set score: 0.9980430528375733\n",
      "\n",
      "Test set score: 0.7719298245614035\n"
     ]
    },
    {
     "name": "stderr",
     "output_type": "stream",
     "text": [
      "/Users/karenmcgee/anaconda3/lib/python3.6/site-packages/sklearn/model_selection/_split.py:626: Warning: The least populated class in y has only 3 members, which is too few. The minimum number of members in any class cannot be less than n_splits=5.\n",
      "  % (min_groups, self.n_splits)), Warning)\n"
     ]
    },
    {
     "name": "stdout",
     "output_type": "stream",
     "text": [
      "RFC Training mean set score: 0.8258893129625433\n",
      "RFC Testing mean set score: 0.6644469828112343\n",
      "[[13  0  0  0  0  0  0  0  1  1]\n",
      " [ 6  8  1  0  0  0  1  0  1  1]\n",
      " [ 0  0  9  0  0  0  4  0  3  0]\n",
      " [ 0  0  0  3  0  0  0  0  0  0]\n",
      " [ 0  0  0  0  6  1  0  0  0  0]\n",
      " [ 0  0  0  0  1  8  0  0  0  0]\n",
      " [ 0  0  0  0  0  0 21  0  1  0]\n",
      " [ 0  0  0  0  0  4  0  1  0  0]\n",
      " [ 1  0  0  0  0  0  1  0 54  0]\n",
      " [ 3  2  1  0  0  0  1  0  4  9]]\n",
      "              precision    recall  f1-score   support\n",
      "\n",
      "        ball       0.57      0.87      0.68        15\n",
      "       brown       0.80      0.44      0.57        18\n",
      "      bryant       0.82      0.56      0.67        16\n",
      " busterbrown       1.00      1.00      1.00         3\n",
      "      caesar       0.86      0.86      0.86         7\n",
      "      hamlet       0.62      0.89      0.73         9\n",
      "      leaves       0.75      0.95      0.84        22\n",
      "     macbeth       1.00      0.20      0.33         5\n",
      "   moby_dick       0.84      0.96      0.90        56\n",
      "    thursday       0.82      0.45      0.58        20\n",
      "\n",
      "   micro avg       0.77      0.77      0.77       171\n",
      "   macro avg       0.81      0.72      0.72       171\n",
      "weighted avg       0.79      0.77      0.75       171\n",
      "\n",
      "0.7719298245614035\n"
     ]
    }
   ],
   "source": [
    "#Execute the RandomForestClassifier Model\n",
    "#remove the warnings related to default parameters\n",
    "import warnings\n",
    "warnings.filterwarnings(\"ignore\", category=FutureWarning)\n",
    "\n",
    "\n",
    "from sklearn import ensemble\n",
    "from sklearn.model_selection import train_test_split\n",
    "\n",
    "rfc = ensemble.RandomForestClassifier()\n",
    "train = rfc.fit(X_train, y_train)\n",
    "y_pred = rfc.predict(X_test)\n",
    "\n",
    "print('Training set score:', rfc.score(X_train, y_train))\n",
    "print('\\nTest set score:', rfc.score(X_test, y_test))\n",
    "#print('\\nTraining std score:', rfc (X_test, y_test))\n",
    "#print('\\nTest std score:', rfc.score(X_test, y_test))\n",
    "\n",
    "\n",
    "\n",
    "#compare the training and testing results using cross validation\n",
    "from sklearn.model_selection import cross_val_score\n",
    "cv_results_train = cross_val_score(rfc, X_train, y_train, cv=5)\n",
    "cv_results_test = cross_val_score(rfc, X_test, y_test, cv=5)\n",
    "print('RFC Training mean set score:', cv_results_train.mean())\n",
    "#print('RFC Training set score:', cv_results_train)\n",
    "print('RFC Testing mean set score:', cv_results_test.mean())\n",
    "#print('RFC Testing set score:', cv_results_test)\n",
    "\n",
    "print(confusion_matrix(y_test,y_pred))  \n",
    "print(classification_report(y_test,y_pred))  \n",
    "print(accuracy_score(y_test, y_pred)) "
   ]
  },
  {
   "cell_type": "code",
   "execution_count": 169,
   "metadata": {},
   "outputs": [
    {
     "name": "stdout",
     "output_type": "stream",
     "text": [
      "Training set score: 0.9960861056751468\n",
      "\n",
      "Test set score: 0.9298245614035088\n"
     ]
    },
    {
     "name": "stderr",
     "output_type": "stream",
     "text": [
      "/Users/karenmcgee/anaconda3/lib/python3.6/site-packages/sklearn/model_selection/_split.py:626: Warning: The least populated class in y has only 3 members, which is too few. The minimum number of members in any class cannot be less than n_splits=5.\n",
      "  % (min_groups, self.n_splits)), Warning)\n"
     ]
    },
    {
     "name": "stdout",
     "output_type": "stream",
     "text": [
      "LR Training mean set score: 0.9240892056625226\n",
      "LR Testing mean set score: 0.5687751756050468\n",
      "[[15  0  0  0  0  0  0  0  0  0]\n",
      " [ 0 18  0  0  0  0  0  0  0  0]\n",
      " [ 0  0  5  0  0  0  4  0  7  0]\n",
      " [ 0  0  0  3  0  0  0  0  0  0]\n",
      " [ 0  0  0  0  7  0  0  0  0  0]\n",
      " [ 0  0  0  0  0  9  0  0  0  0]\n",
      " [ 0  0  0  0  0  0 22  0  0  0]\n",
      " [ 0  0  0  0  0  0  0  5  0  0]\n",
      " [ 0  0  0  0  0  0  0  0 56  0]\n",
      " [ 0  0  0  0  0  0  1  0  0 19]]\n",
      "              precision    recall  f1-score   support\n",
      "\n",
      "        ball       1.00      1.00      1.00        15\n",
      "       brown       1.00      1.00      1.00        18\n",
      "      bryant       1.00      0.31      0.48        16\n",
      " busterbrown       1.00      1.00      1.00         3\n",
      "      caesar       1.00      1.00      1.00         7\n",
      "      hamlet       1.00      1.00      1.00         9\n",
      "      leaves       0.81      1.00      0.90        22\n",
      "     macbeth       1.00      1.00      1.00         5\n",
      "   moby_dick       0.89      1.00      0.94        56\n",
      "    thursday       1.00      0.95      0.97        20\n",
      "\n",
      "   micro avg       0.93      0.93      0.93       171\n",
      "   macro avg       0.97      0.93      0.93       171\n",
      "weighted avg       0.94      0.93      0.92       171\n",
      "\n",
      "0.9298245614035088\n"
     ]
    }
   ],
   "source": [
    "#Execute the LogisticRegression Model\n",
    "#remove the warnings related to default parameters\n",
    "import warnings\n",
    "warnings.filterwarnings(\"ignore\", category=FutureWarning)\n",
    "\n",
    "from sklearn.linear_model import LogisticRegression\n",
    "\n",
    "lr = LogisticRegression()\n",
    "train = lr.fit(X_train, y_train)\n",
    "y_pred = lr.predict(X_test)\n",
    "\n",
    "#print(X_train.shape, y_train.shape)\n",
    "print('Training set score:', lr.score(X_train, y_train))\n",
    "print('\\nTest set score:', lr.score(X_test, y_test))\n",
    "\n",
    "#compare the training and testing results using cross validation\n",
    "#remove the warnings related to default parameters\n",
    "import warnings\n",
    "warnings.filterwarnings(\"ignore\", category=FutureWarning)\n",
    "\n",
    "from sklearn.model_selection import cross_val_score\n",
    "cv_results_train = cross_val_score(lr, X_train, y_train, cv=5)\n",
    "cv_results_test = cross_val_score(lr, X_test, y_test, cv=5)\n",
    "print('LR Training mean set score:', cv_results_train.mean())\n",
    "#print('LR Training set score:', cv_results_train)\n",
    "print('LR Testing mean set score:', cv_results_test.mean())\n",
    "\n",
    "print(confusion_matrix(y_test,y_pred))  \n",
    "print(classification_report(y_test,y_pred))  \n",
    "print(accuracy_score(y_test, y_pred)) \n"
   ]
  },
  {
   "cell_type": "code",
   "execution_count": 170,
   "metadata": {},
   "outputs": [
    {
     "name": "stdout",
     "output_type": "stream",
     "text": [
      "Training set score: 1.0\n",
      "\n",
      "Test set score: 0.9590643274853801\n"
     ]
    },
    {
     "name": "stderr",
     "output_type": "stream",
     "text": [
      "/Users/karenmcgee/anaconda3/lib/python3.6/site-packages/sklearn/model_selection/_split.py:626: Warning: The least populated class in y has only 3 members, which is too few. The minimum number of members in any class cannot be less than n_splits=5.\n",
      "  % (min_groups, self.n_splits)), Warning)\n"
     ]
    },
    {
     "name": "stdout",
     "output_type": "stream",
     "text": [
      "CLF Training mean set score: 0.9412127233705159\n",
      "CLF Testing mean set score: 0.8606254924154155\n",
      "[[14  1  0  0  0  0  0  0  0  0]\n",
      " [ 0 18  0  0  0  0  0  0  0  0]\n",
      " [ 0  0 13  0  0  0  1  0  2  0]\n",
      " [ 0  0  0  3  0  0  0  0  0  0]\n",
      " [ 0  0  0  0  7  0  0  0  0  0]\n",
      " [ 0  0  0  0  0  8  0  0  1  0]\n",
      " [ 0  1  0  0  0  0 21  0  0  0]\n",
      " [ 0  0  0  0  0  0  0  5  0  0]\n",
      " [ 0  0  0  0  0  1  0  0 55  0]\n",
      " [ 0  0  0  0  0  0  0  0  0 20]]\n",
      "              precision    recall  f1-score   support\n",
      "\n",
      "        ball       1.00      0.93      0.97        15\n",
      "       brown       0.90      1.00      0.95        18\n",
      "      bryant       1.00      0.81      0.90        16\n",
      " busterbrown       1.00      1.00      1.00         3\n",
      "      caesar       1.00      1.00      1.00         7\n",
      "      hamlet       0.89      0.89      0.89         9\n",
      "      leaves       0.95      0.95      0.95        22\n",
      "     macbeth       1.00      1.00      1.00         5\n",
      "   moby_dick       0.95      0.98      0.96        56\n",
      "    thursday       1.00      1.00      1.00        20\n",
      "\n",
      "   micro avg       0.96      0.96      0.96       171\n",
      "   macro avg       0.97      0.96      0.96       171\n",
      "weighted avg       0.96      0.96      0.96       171\n",
      "\n",
      "0.9590643274853801\n"
     ]
    }
   ],
   "source": [
    "#Execute the GradientBoostingClassifier Model\n",
    "clf = ensemble.GradientBoostingClassifier()\n",
    "train = clf.fit(X_train, y_train)\n",
    "y_pred = clf.predict(X_test)\n",
    "\n",
    "print('Training set score:', clf.score(X_train, y_train))\n",
    "print('\\nTest set score:', clf.score(X_test, y_test))\n",
    "\n",
    "#compare the training and testing results using cross validation\n",
    "from sklearn.model_selection import cross_val_score\n",
    "cv_results_train = cross_val_score(clf, X_train, y_train, cv=5)\n",
    "cv_results_test = cross_val_score(clf, X_test, y_test, cv=5)\n",
    "print('CLF Training mean set score:', cv_results_train.mean())\n",
    "#print('CLF Training set score:', cv_results_train)\n",
    "print('CLF Testing mean set score:', cv_results_test.mean())\n",
    "\n",
    "print(confusion_matrix(y_test,y_pred))  \n",
    "print(classification_report(y_test,y_pred))  \n",
    "print(accuracy_score(y_test, y_pred)) \n",
    "\n"
   ]
  },
  {
   "cell_type": "code",
   "execution_count": null,
   "metadata": {},
   "outputs": [],
   "source": []
  }
 ],
 "metadata": {
  "kernelspec": {
   "display_name": "Python 3",
   "language": "python",
   "name": "python3"
  },
  "language_info": {
   "codemirror_mode": {
    "name": "ipython",
    "version": 3
   },
   "file_extension": ".py",
   "mimetype": "text/x-python",
   "name": "python",
   "nbconvert_exporter": "python",
   "pygments_lexer": "ipython3",
   "version": "3.6.5"
  }
 },
 "nbformat": 4,
 "nbformat_minor": 2
}
