{
 "cells": [
  {
   "cell_type": "code",
   "execution_count": 5,
   "metadata": {},
   "outputs": [],
   "source": [
    "#Project goal: Using the data in the link below, attempt to model a customer’s\n",
    "#propensity to join our loyalty program"
   ]
  },
  {
   "cell_type": "code",
   "execution_count": 6,
   "metadata": {},
   "outputs": [],
   "source": [
    "import pandas as pd\n",
    "import numpy as np\n",
    "import matplotlib.pyplot as plt\n",
    "% matplotlib inline"
   ]
  },
  {
   "cell_type": "code",
   "execution_count": 7,
   "metadata": {},
   "outputs": [
    {
     "data": {
      "text/html": [
       "<div>\n",
       "<style scoped>\n",
       "    .dataframe tbody tr th:only-of-type {\n",
       "        vertical-align: middle;\n",
       "    }\n",
       "\n",
       "    .dataframe tbody tr th {\n",
       "        vertical-align: top;\n",
       "    }\n",
       "\n",
       "    .dataframe thead th {\n",
       "        text-align: right;\n",
       "    }\n",
       "</style>\n",
       "<table border=\"1\" class=\"dataframe\">\n",
       "  <thead>\n",
       "    <tr style=\"text-align: right;\">\n",
       "      <th></th>\n",
       "      <th>Unnamed: 0</th>\n",
       "      <th>purch_amt</th>\n",
       "      <th>gender</th>\n",
       "      <th>card_on_file</th>\n",
       "      <th>age</th>\n",
       "      <th>days_since_last_purch</th>\n",
       "      <th>loyalty</th>\n",
       "    </tr>\n",
       "  </thead>\n",
       "  <tbody>\n",
       "    <tr>\n",
       "      <th>0</th>\n",
       "      <td>0</td>\n",
       "      <td>19.58</td>\n",
       "      <td>male</td>\n",
       "      <td>no</td>\n",
       "      <td>31.0</td>\n",
       "      <td>35.0</td>\n",
       "      <td>False</td>\n",
       "    </tr>\n",
       "    <tr>\n",
       "      <th>1</th>\n",
       "      <td>1</td>\n",
       "      <td>65.16</td>\n",
       "      <td>male</td>\n",
       "      <td>yes</td>\n",
       "      <td>23.0</td>\n",
       "      <td>61.0</td>\n",
       "      <td>False</td>\n",
       "    </tr>\n",
       "    <tr>\n",
       "      <th>2</th>\n",
       "      <td>2</td>\n",
       "      <td>40.60</td>\n",
       "      <td>female</td>\n",
       "      <td>no</td>\n",
       "      <td>36.0</td>\n",
       "      <td>49.0</td>\n",
       "      <td>False</td>\n",
       "    </tr>\n",
       "    <tr>\n",
       "      <th>3</th>\n",
       "      <td>3</td>\n",
       "      <td>38.01</td>\n",
       "      <td>male</td>\n",
       "      <td>yes</td>\n",
       "      <td>47.0</td>\n",
       "      <td>57.0</td>\n",
       "      <td>False</td>\n",
       "    </tr>\n",
       "    <tr>\n",
       "      <th>4</th>\n",
       "      <td>4</td>\n",
       "      <td>22.32</td>\n",
       "      <td>female</td>\n",
       "      <td>yes</td>\n",
       "      <td>5.0</td>\n",
       "      <td>39.0</td>\n",
       "      <td>False</td>\n",
       "    </tr>\n",
       "  </tbody>\n",
       "</table>\n",
       "</div>"
      ],
      "text/plain": [
       "   Unnamed: 0  purch_amt  gender card_on_file   age  days_since_last_purch  \\\n",
       "0           0      19.58    male           no  31.0                   35.0   \n",
       "1           1      65.16    male          yes  23.0                   61.0   \n",
       "2           2      40.60  female           no  36.0                   49.0   \n",
       "3           3      38.01    male          yes  47.0                   57.0   \n",
       "4           4      22.32  female          yes   5.0                   39.0   \n",
       "\n",
       "   loyalty  \n",
       "0    False  \n",
       "1    False  \n",
       "2    False  \n",
       "3    False  \n",
       "4    False  "
      ]
     },
     "execution_count": 7,
     "metadata": {},
     "output_type": "execute_result"
    }
   ],
   "source": [
    "df_cus = pd.read_csv(\"customers_data.csv\")\n",
    "df_cus.head()"
   ]
  },
  {
   "cell_type": "code",
   "execution_count": 8,
   "metadata": {},
   "outputs": [
    {
     "name": "stdout",
     "output_type": "stream",
     "text": [
      "Unnamed: 0               0\n",
      "purch_amt                0\n",
      "gender                   0\n",
      "card_on_file             0\n",
      "age                      0\n",
      "days_since_last_purch    0\n",
      "loyalty                  0\n",
      "dtype: int64\n"
     ]
    }
   ],
   "source": [
    "#determine if we need to clean up any missing values\n",
    "missing_values_count = (df_cus.isnull().sum())\n",
    "print(missing_values_count)"
   ]
  },
  {
   "cell_type": "code",
   "execution_count": 9,
   "metadata": {},
   "outputs": [
    {
     "data": {
      "text/html": [
       "<div>\n",
       "<style scoped>\n",
       "    .dataframe tbody tr th:only-of-type {\n",
       "        vertical-align: middle;\n",
       "    }\n",
       "\n",
       "    .dataframe tbody tr th {\n",
       "        vertical-align: top;\n",
       "    }\n",
       "\n",
       "    .dataframe thead th {\n",
       "        text-align: right;\n",
       "    }\n",
       "</style>\n",
       "<table border=\"1\" class=\"dataframe\">\n",
       "  <thead>\n",
       "    <tr style=\"text-align: right;\">\n",
       "      <th></th>\n",
       "      <th>Unnamed: 0</th>\n",
       "      <th>purch_amt</th>\n",
       "      <th>gender</th>\n",
       "      <th>card_on_file</th>\n",
       "      <th>age</th>\n",
       "      <th>days_since_last_purch</th>\n",
       "      <th>loyalty</th>\n",
       "      <th>loyalty_codes</th>\n",
       "      <th>gender_codes</th>\n",
       "      <th>card_on_file_codes</th>\n",
       "    </tr>\n",
       "  </thead>\n",
       "  <tbody>\n",
       "    <tr>\n",
       "      <th>0</th>\n",
       "      <td>0</td>\n",
       "      <td>19.58</td>\n",
       "      <td>male</td>\n",
       "      <td>no</td>\n",
       "      <td>31.0</td>\n",
       "      <td>35.0</td>\n",
       "      <td>False</td>\n",
       "      <td>0</td>\n",
       "      <td>1</td>\n",
       "      <td>0</td>\n",
       "    </tr>\n",
       "    <tr>\n",
       "      <th>1</th>\n",
       "      <td>1</td>\n",
       "      <td>65.16</td>\n",
       "      <td>male</td>\n",
       "      <td>yes</td>\n",
       "      <td>23.0</td>\n",
       "      <td>61.0</td>\n",
       "      <td>False</td>\n",
       "      <td>0</td>\n",
       "      <td>1</td>\n",
       "      <td>1</td>\n",
       "    </tr>\n",
       "    <tr>\n",
       "      <th>2</th>\n",
       "      <td>2</td>\n",
       "      <td>40.60</td>\n",
       "      <td>female</td>\n",
       "      <td>no</td>\n",
       "      <td>36.0</td>\n",
       "      <td>49.0</td>\n",
       "      <td>False</td>\n",
       "      <td>0</td>\n",
       "      <td>0</td>\n",
       "      <td>0</td>\n",
       "    </tr>\n",
       "    <tr>\n",
       "      <th>3</th>\n",
       "      <td>3</td>\n",
       "      <td>38.01</td>\n",
       "      <td>male</td>\n",
       "      <td>yes</td>\n",
       "      <td>47.0</td>\n",
       "      <td>57.0</td>\n",
       "      <td>False</td>\n",
       "      <td>0</td>\n",
       "      <td>1</td>\n",
       "      <td>1</td>\n",
       "    </tr>\n",
       "    <tr>\n",
       "      <th>4</th>\n",
       "      <td>4</td>\n",
       "      <td>22.32</td>\n",
       "      <td>female</td>\n",
       "      <td>yes</td>\n",
       "      <td>5.0</td>\n",
       "      <td>39.0</td>\n",
       "      <td>False</td>\n",
       "      <td>0</td>\n",
       "      <td>0</td>\n",
       "      <td>1</td>\n",
       "    </tr>\n",
       "  </tbody>\n",
       "</table>\n",
       "</div>"
      ],
      "text/plain": [
       "   Unnamed: 0  purch_amt  gender card_on_file   age  days_since_last_purch  \\\n",
       "0           0      19.58    male           no  31.0                   35.0   \n",
       "1           1      65.16    male          yes  23.0                   61.0   \n",
       "2           2      40.60  female           no  36.0                   49.0   \n",
       "3           3      38.01    male          yes  47.0                   57.0   \n",
       "4           4      22.32  female          yes   5.0                   39.0   \n",
       "\n",
       "   loyalty  loyalty_codes  gender_codes  card_on_file_codes  \n",
       "0    False              0             1                   0  \n",
       "1    False              0             1                   1  \n",
       "2    False              0             0                   0  \n",
       "3    False              0             1                   1  \n",
       "4    False              0             0                   1  "
      ]
     },
     "execution_count": 9,
     "metadata": {},
     "output_type": "execute_result"
    }
   ],
   "source": [
    "from sklearn.preprocessing import LabelEncoder\n",
    "lb_make = LabelEncoder()\n",
    "df_cus['loyalty_codes'] = lb_make.fit_transform(df_cus['loyalty'])\n",
    "df_cus['gender_codes'] = lb_make.fit_transform(df_cus['gender'])\n",
    "df_cus['card_on_file_codes'] = lb_make.fit_transform(df_cus['card_on_file'])\n",
    "\n",
    "df_cus.head()"
   ]
  },
  {
   "cell_type": "code",
   "execution_count": 10,
   "metadata": {},
   "outputs": [
    {
     "data": {
      "text/plain": [
       "array([0, 1])"
      ]
     },
     "execution_count": 10,
     "metadata": {},
     "output_type": "execute_result"
    }
   ],
   "source": [
    "#verify unique values\n",
    "df_cus['loyalty_codes'].unique()"
   ]
  },
  {
   "cell_type": "code",
   "execution_count": 11,
   "metadata": {},
   "outputs": [
    {
     "data": {
      "text/html": [
       "<div>\n",
       "<style scoped>\n",
       "    .dataframe tbody tr th:only-of-type {\n",
       "        vertical-align: middle;\n",
       "    }\n",
       "\n",
       "    .dataframe tbody tr th {\n",
       "        vertical-align: top;\n",
       "    }\n",
       "\n",
       "    .dataframe thead th {\n",
       "        text-align: right;\n",
       "    }\n",
       "</style>\n",
       "<table border=\"1\" class=\"dataframe\">\n",
       "  <thead>\n",
       "    <tr style=\"text-align: right;\">\n",
       "      <th></th>\n",
       "      <th>Unnamed: 0</th>\n",
       "      <th>purch_amt</th>\n",
       "      <th>age</th>\n",
       "      <th>days_since_last_purch</th>\n",
       "      <th>loyalty_codes</th>\n",
       "      <th>gender_codes</th>\n",
       "      <th>card_on_file_codes</th>\n",
       "    </tr>\n",
       "  </thead>\n",
       "  <tbody>\n",
       "    <tr>\n",
       "      <th>count</th>\n",
       "      <td>120000.000000</td>\n",
       "      <td>120000.000000</td>\n",
       "      <td>120000.000000</td>\n",
       "      <td>120000.000000</td>\n",
       "      <td>120000.000000</td>\n",
       "      <td>120000.000000</td>\n",
       "      <td>120000.000000</td>\n",
       "    </tr>\n",
       "    <tr>\n",
       "      <th>mean</th>\n",
       "      <td>59999.500000</td>\n",
       "      <td>44.036234</td>\n",
       "      <td>25.803008</td>\n",
       "      <td>56.605908</td>\n",
       "      <td>0.166667</td>\n",
       "      <td>0.501508</td>\n",
       "      <td>0.500725</td>\n",
       "    </tr>\n",
       "    <tr>\n",
       "      <th>std</th>\n",
       "      <td>34641.160489</td>\n",
       "      <td>20.473148</td>\n",
       "      <td>10.153072</td>\n",
       "      <td>16.422187</td>\n",
       "      <td>0.372680</td>\n",
       "      <td>0.500000</td>\n",
       "      <td>0.500002</td>\n",
       "    </tr>\n",
       "    <tr>\n",
       "      <th>min</th>\n",
       "      <td>0.000000</td>\n",
       "      <td>-43.950000</td>\n",
       "      <td>-22.000000</td>\n",
       "      <td>-9.000000</td>\n",
       "      <td>0.000000</td>\n",
       "      <td>0.000000</td>\n",
       "      <td>0.000000</td>\n",
       "    </tr>\n",
       "    <tr>\n",
       "      <th>25%</th>\n",
       "      <td>29999.750000</td>\n",
       "      <td>30.210000</td>\n",
       "      <td>19.000000</td>\n",
       "      <td>45.000000</td>\n",
       "      <td>0.000000</td>\n",
       "      <td>0.000000</td>\n",
       "      <td>0.000000</td>\n",
       "    </tr>\n",
       "    <tr>\n",
       "      <th>50%</th>\n",
       "      <td>59999.500000</td>\n",
       "      <td>43.970000</td>\n",
       "      <td>26.000000</td>\n",
       "      <td>57.000000</td>\n",
       "      <td>0.000000</td>\n",
       "      <td>1.000000</td>\n",
       "      <td>1.000000</td>\n",
       "    </tr>\n",
       "    <tr>\n",
       "      <th>75%</th>\n",
       "      <td>89999.250000</td>\n",
       "      <td>57.830000</td>\n",
       "      <td>33.000000</td>\n",
       "      <td>68.000000</td>\n",
       "      <td>0.000000</td>\n",
       "      <td>1.000000</td>\n",
       "      <td>1.000000</td>\n",
       "    </tr>\n",
       "    <tr>\n",
       "      <th>max</th>\n",
       "      <td>119999.000000</td>\n",
       "      <td>142.200000</td>\n",
       "      <td>71.000000</td>\n",
       "      <td>125.000000</td>\n",
       "      <td>1.000000</td>\n",
       "      <td>1.000000</td>\n",
       "      <td>1.000000</td>\n",
       "    </tr>\n",
       "  </tbody>\n",
       "</table>\n",
       "</div>"
      ],
      "text/plain": [
       "          Unnamed: 0      purch_amt            age  days_since_last_purch  \\\n",
       "count  120000.000000  120000.000000  120000.000000          120000.000000   \n",
       "mean    59999.500000      44.036234      25.803008              56.605908   \n",
       "std     34641.160489      20.473148      10.153072              16.422187   \n",
       "min         0.000000     -43.950000     -22.000000              -9.000000   \n",
       "25%     29999.750000      30.210000      19.000000              45.000000   \n",
       "50%     59999.500000      43.970000      26.000000              57.000000   \n",
       "75%     89999.250000      57.830000      33.000000              68.000000   \n",
       "max    119999.000000     142.200000      71.000000             125.000000   \n",
       "\n",
       "       loyalty_codes   gender_codes  card_on_file_codes  \n",
       "count  120000.000000  120000.000000       120000.000000  \n",
       "mean        0.166667       0.501508            0.500725  \n",
       "std         0.372680       0.500000            0.500002  \n",
       "min         0.000000       0.000000            0.000000  \n",
       "25%         0.000000       0.000000            0.000000  \n",
       "50%         0.000000       1.000000            1.000000  \n",
       "75%         0.000000       1.000000            1.000000  \n",
       "max         1.000000       1.000000            1.000000  "
      ]
     },
     "execution_count": 11,
     "metadata": {},
     "output_type": "execute_result"
    }
   ],
   "source": [
    "df_cus.describe()"
   ]
  },
  {
   "cell_type": "code",
   "execution_count": 12,
   "metadata": {},
   "outputs": [
    {
     "data": {
      "image/png": "[encoded data removed]",
      "text/plain": [
       "<Figure size 432x288 with 1 Axes>"
      ]
     },
     "metadata": {},
     "output_type": "display_data"
    }
   ],
   "source": [
    "#default bins = 10 \n",
    "df_cus['purch_amt'].hist(bins=25)\n",
    "plt.show()"
   ]
  },
  {
   "cell_type": "code",
   "execution_count": 13,
   "metadata": {},
   "outputs": [
    {
     "data": {
      "image/png": "[encoded data removed]",
      "text/plain": [
       "<Figure size 432x288 with 1 Axes>"
      ]
     },
     "metadata": {},
     "output_type": "display_data"
    }
   ],
   "source": [
    "#default bins = 10 \n",
    "df_cus['days_since_last_purch'].hist(bins=25)\n",
    "plt.show()"
   ]
  },
  {
   "cell_type": "code",
   "execution_count": 14,
   "metadata": {},
   "outputs": [
    {
     "data": {
      "text/plain": [
       "<matplotlib.axes._subplots.AxesSubplot at 0x1a1d47d550>"
      ]
     },
     "execution_count": 14,
     "metadata": {},
     "output_type": "execute_result"
    },
    {
     "data": {
      "image/png": "[encoded data removed]",
      "text/plain": [
       "<Figure size 432x288 with 1 Axes>"
      ]
     },
     "metadata": {},
     "output_type": "display_data"
    }
   ],
   "source": [
    "df_cus.boxplot('purch_amt','loyalty')"
   ]
  },
  {
   "cell_type": "code",
   "execution_count": 15,
   "metadata": {},
   "outputs": [
    {
     "data": {
      "text/html": [
       "<div>\n",
       "<style scoped>\n",
       "    .dataframe tbody tr th:only-of-type {\n",
       "        vertical-align: middle;\n",
       "    }\n",
       "\n",
       "    .dataframe tbody tr th {\n",
       "        vertical-align: top;\n",
       "    }\n",
       "\n",
       "    .dataframe thead th {\n",
       "        text-align: right;\n",
       "    }\n",
       "</style>\n",
       "<table border=\"1\" class=\"dataframe\">\n",
       "  <thead>\n",
       "    <tr style=\"text-align: right;\">\n",
       "      <th></th>\n",
       "      <th>Unnamed: 0</th>\n",
       "      <th>purch_amt</th>\n",
       "      <th>gender</th>\n",
       "      <th>card_on_file</th>\n",
       "      <th>age</th>\n",
       "      <th>days_since_last_purch</th>\n",
       "      <th>loyalty</th>\n",
       "      <th>loyalty_codes</th>\n",
       "      <th>gender_codes</th>\n",
       "      <th>card_on_file_codes</th>\n",
       "    </tr>\n",
       "  </thead>\n",
       "  <tbody>\n",
       "    <tr>\n",
       "      <th>9</th>\n",
       "      <td>9</td>\n",
       "      <td>93.63</td>\n",
       "      <td>female</td>\n",
       "      <td>no</td>\n",
       "      <td>40.0</td>\n",
       "      <td>47.0</td>\n",
       "      <td>True</td>\n",
       "      <td>1</td>\n",
       "      <td>0</td>\n",
       "      <td>0</td>\n",
       "    </tr>\n",
       "    <tr>\n",
       "      <th>48</th>\n",
       "      <td>48</td>\n",
       "      <td>99.03</td>\n",
       "      <td>male</td>\n",
       "      <td>no</td>\n",
       "      <td>39.0</td>\n",
       "      <td>51.0</td>\n",
       "      <td>True</td>\n",
       "      <td>1</td>\n",
       "      <td>1</td>\n",
       "      <td>0</td>\n",
       "    </tr>\n",
       "    <tr>\n",
       "      <th>421</th>\n",
       "      <td>421</td>\n",
       "      <td>96.01</td>\n",
       "      <td>female</td>\n",
       "      <td>yes</td>\n",
       "      <td>25.0</td>\n",
       "      <td>50.0</td>\n",
       "      <td>True</td>\n",
       "      <td>1</td>\n",
       "      <td>0</td>\n",
       "      <td>1</td>\n",
       "    </tr>\n",
       "    <tr>\n",
       "      <th>477</th>\n",
       "      <td>477</td>\n",
       "      <td>94.67</td>\n",
       "      <td>female</td>\n",
       "      <td>no</td>\n",
       "      <td>24.0</td>\n",
       "      <td>37.0</td>\n",
       "      <td>True</td>\n",
       "      <td>1</td>\n",
       "      <td>0</td>\n",
       "      <td>0</td>\n",
       "    </tr>\n",
       "    <tr>\n",
       "      <th>600</th>\n",
       "      <td>600</td>\n",
       "      <td>94.41</td>\n",
       "      <td>male</td>\n",
       "      <td>yes</td>\n",
       "      <td>19.0</td>\n",
       "      <td>47.0</td>\n",
       "      <td>True</td>\n",
       "      <td>1</td>\n",
       "      <td>1</td>\n",
       "      <td>1</td>\n",
       "    </tr>\n",
       "  </tbody>\n",
       "</table>\n",
       "</div>"
      ],
      "text/plain": [
       "     Unnamed: 0  purch_amt  gender card_on_file   age  days_since_last_purch  \\\n",
       "9             9      93.63  female           no  40.0                   47.0   \n",
       "48           48      99.03    male           no  39.0                   51.0   \n",
       "421         421      96.01  female          yes  25.0                   50.0   \n",
       "477         477      94.67  female           no  24.0                   37.0   \n",
       "600         600      94.41    male          yes  19.0                   47.0   \n",
       "\n",
       "     loyalty  loyalty_codes  gender_codes  card_on_file_codes  \n",
       "9       True              1             0                   0  \n",
       "48      True              1             1                   0  \n",
       "421     True              1             0                   1  \n",
       "477     True              1             0                   0  \n",
       "600     True              1             1                   1  "
      ]
     },
     "execution_count": 15,
     "metadata": {},
     "output_type": "execute_result"
    }
   ],
   "source": [
    "#take a look at the outliers that are above 90 for loyal customers\n",
    "df_outliers_pos = df_cus[(df_cus['purch_amt'] >90) & (df_cus['loyalty'] == 1)]\n",
    "df_outliers_pos.head()\n"
   ]
  },
  {
   "cell_type": "code",
   "execution_count": 16,
   "metadata": {},
   "outputs": [
    {
     "name": "stdout",
     "output_type": "stream",
     "text": [
      "(726, 10)\n"
     ]
    }
   ],
   "source": [
    "print(df_outliers_pos.shape)"
   ]
  },
  {
   "cell_type": "code",
   "execution_count": 118,
   "metadata": {},
   "outputs": [
    {
     "data": {
      "image/png": "[encoded data removed]",
      "text/plain": [
       "<Figure size 432x288 with 1 Axes>"
      ]
     },
     "metadata": {},
     "output_type": "display_data"
    }
   ],
   "source": [
    "df_outliers_pos.plot(kind='density', x='days_since_last_purch', y='purch_amt', legend=True)\n",
    "plt.show()"
   ]
  },
  {
   "cell_type": "code",
   "execution_count": 19,
   "metadata": {},
   "outputs": [
    {
     "data": {
      "text/html": [
       "<div>\n",
       "<style scoped>\n",
       "    .dataframe tbody tr th:only-of-type {\n",
       "        vertical-align: middle;\n",
       "    }\n",
       "\n",
       "    .dataframe tbody tr th {\n",
       "        vertical-align: top;\n",
       "    }\n",
       "\n",
       "    .dataframe thead th {\n",
       "        text-align: right;\n",
       "    }\n",
       "</style>\n",
       "<table border=\"1\" class=\"dataframe\">\n",
       "  <thead>\n",
       "    <tr style=\"text-align: right;\">\n",
       "      <th></th>\n",
       "      <th>Unnamed: 0</th>\n",
       "      <th>purch_amt</th>\n",
       "      <th>gender</th>\n",
       "      <th>card_on_file</th>\n",
       "      <th>age</th>\n",
       "      <th>days_since_last_purch</th>\n",
       "      <th>loyalty</th>\n",
       "      <th>loyalty_codes</th>\n",
       "      <th>gender_codes</th>\n",
       "      <th>card_on_file_codes</th>\n",
       "    </tr>\n",
       "  </thead>\n",
       "  <tbody>\n",
       "    <tr>\n",
       "      <th>4720</th>\n",
       "      <td>4720</td>\n",
       "      <td>-1.06</td>\n",
       "      <td>male</td>\n",
       "      <td>no</td>\n",
       "      <td>26.0</td>\n",
       "      <td>47.0</td>\n",
       "      <td>True</td>\n",
       "      <td>1</td>\n",
       "      <td>1</td>\n",
       "      <td>0</td>\n",
       "    </tr>\n",
       "    <tr>\n",
       "      <th>6909</th>\n",
       "      <td>6909</td>\n",
       "      <td>-6.47</td>\n",
       "      <td>male</td>\n",
       "      <td>no</td>\n",
       "      <td>34.0</td>\n",
       "      <td>42.0</td>\n",
       "      <td>True</td>\n",
       "      <td>1</td>\n",
       "      <td>1</td>\n",
       "      <td>0</td>\n",
       "    </tr>\n",
       "    <tr>\n",
       "      <th>7172</th>\n",
       "      <td>7172</td>\n",
       "      <td>-12.35</td>\n",
       "      <td>female</td>\n",
       "      <td>no</td>\n",
       "      <td>24.0</td>\n",
       "      <td>59.0</td>\n",
       "      <td>True</td>\n",
       "      <td>1</td>\n",
       "      <td>0</td>\n",
       "      <td>0</td>\n",
       "    </tr>\n",
       "    <tr>\n",
       "      <th>8746</th>\n",
       "      <td>8746</td>\n",
       "      <td>-14.21</td>\n",
       "      <td>female</td>\n",
       "      <td>yes</td>\n",
       "      <td>37.0</td>\n",
       "      <td>40.0</td>\n",
       "      <td>True</td>\n",
       "      <td>1</td>\n",
       "      <td>0</td>\n",
       "      <td>1</td>\n",
       "    </tr>\n",
       "    <tr>\n",
       "      <th>9620</th>\n",
       "      <td>9620</td>\n",
       "      <td>-1.47</td>\n",
       "      <td>male</td>\n",
       "      <td>no</td>\n",
       "      <td>35.0</td>\n",
       "      <td>30.0</td>\n",
       "      <td>True</td>\n",
       "      <td>1</td>\n",
       "      <td>1</td>\n",
       "      <td>0</td>\n",
       "    </tr>\n",
       "  </tbody>\n",
       "</table>\n",
       "</div>"
      ],
      "text/plain": [
       "      Unnamed: 0  purch_amt  gender card_on_file   age  days_since_last_purch  \\\n",
       "4720        4720      -1.06    male           no  26.0                   47.0   \n",
       "6909        6909      -6.47    male           no  34.0                   42.0   \n",
       "7172        7172     -12.35  female           no  24.0                   59.0   \n",
       "8746        8746     -14.21  female          yes  37.0                   40.0   \n",
       "9620        9620      -1.47    male           no  35.0                   30.0   \n",
       "\n",
       "      loyalty  loyalty_codes  gender_codes  card_on_file_codes  \n",
       "4720     True              1             1                   0  \n",
       "6909     True              1             1                   0  \n",
       "7172     True              1             0                   0  \n",
       "8746     True              1             0                   1  \n",
       "9620     True              1             1                   0  "
      ]
     },
     "execution_count": 19,
     "metadata": {},
     "output_type": "execute_result"
    }
   ],
   "source": [
    "#take a look at the outliers that are below or equal to 0 for loyal customers\n",
    "df_outliers_neg = df_cus[(df_cus['purch_amt'] <0) & (df_cus['loyalty'] == 1)]\n",
    "df_outliers_neg.head()"
   ]
  },
  {
   "cell_type": "code",
   "execution_count": 20,
   "metadata": {},
   "outputs": [
    {
     "data": {
      "text/plain": [
       "(84, 10)"
      ]
     },
     "execution_count": 20,
     "metadata": {},
     "output_type": "execute_result"
    }
   ],
   "source": [
    "df_outliers_neg.shape"
   ]
  },
  {
   "cell_type": "code",
   "execution_count": 21,
   "metadata": {},
   "outputs": [
    {
     "data": {
      "text/html": [
       "<div>\n",
       "<style scoped>\n",
       "    .dataframe tbody tr th:only-of-type {\n",
       "        vertical-align: middle;\n",
       "    }\n",
       "\n",
       "    .dataframe tbody tr th {\n",
       "        vertical-align: top;\n",
       "    }\n",
       "\n",
       "    .dataframe thead th {\n",
       "        text-align: right;\n",
       "    }\n",
       "</style>\n",
       "<table border=\"1\" class=\"dataframe\">\n",
       "  <thead>\n",
       "    <tr style=\"text-align: right;\">\n",
       "      <th></th>\n",
       "      <th>Unnamed: 0</th>\n",
       "      <th>purch_amt</th>\n",
       "      <th>gender</th>\n",
       "      <th>card_on_file</th>\n",
       "      <th>age</th>\n",
       "      <th>days_since_last_purch</th>\n",
       "      <th>loyalty</th>\n",
       "      <th>loyalty_codes</th>\n",
       "      <th>gender_codes</th>\n",
       "      <th>card_on_file_codes</th>\n",
       "    </tr>\n",
       "  </thead>\n",
       "  <tbody>\n",
       "    <tr>\n",
       "      <th>103</th>\n",
       "      <td>103</td>\n",
       "      <td>-6.79</td>\n",
       "      <td>female</td>\n",
       "      <td>yes</td>\n",
       "      <td>18.0</td>\n",
       "      <td>67.0</td>\n",
       "      <td>False</td>\n",
       "      <td>0</td>\n",
       "      <td>0</td>\n",
       "      <td>1</td>\n",
       "    </tr>\n",
       "    <tr>\n",
       "      <th>115</th>\n",
       "      <td>115</td>\n",
       "      <td>-12.85</td>\n",
       "      <td>female</td>\n",
       "      <td>yes</td>\n",
       "      <td>23.0</td>\n",
       "      <td>63.0</td>\n",
       "      <td>False</td>\n",
       "      <td>0</td>\n",
       "      <td>0</td>\n",
       "      <td>1</td>\n",
       "    </tr>\n",
       "    <tr>\n",
       "      <th>119</th>\n",
       "      <td>119</td>\n",
       "      <td>-5.00</td>\n",
       "      <td>male</td>\n",
       "      <td>no</td>\n",
       "      <td>23.0</td>\n",
       "      <td>69.0</td>\n",
       "      <td>False</td>\n",
       "      <td>0</td>\n",
       "      <td>1</td>\n",
       "      <td>0</td>\n",
       "    </tr>\n",
       "    <tr>\n",
       "      <th>126</th>\n",
       "      <td>126</td>\n",
       "      <td>-3.85</td>\n",
       "      <td>male</td>\n",
       "      <td>no</td>\n",
       "      <td>21.0</td>\n",
       "      <td>51.0</td>\n",
       "      <td>False</td>\n",
       "      <td>0</td>\n",
       "      <td>1</td>\n",
       "      <td>0</td>\n",
       "    </tr>\n",
       "    <tr>\n",
       "      <th>163</th>\n",
       "      <td>163</td>\n",
       "      <td>-1.34</td>\n",
       "      <td>female</td>\n",
       "      <td>yes</td>\n",
       "      <td>16.0</td>\n",
       "      <td>45.0</td>\n",
       "      <td>False</td>\n",
       "      <td>0</td>\n",
       "      <td>0</td>\n",
       "      <td>1</td>\n",
       "    </tr>\n",
       "  </tbody>\n",
       "</table>\n",
       "</div>"
      ],
      "text/plain": [
       "     Unnamed: 0  purch_amt  gender card_on_file   age  days_since_last_purch  \\\n",
       "103         103      -6.79  female          yes  18.0                   67.0   \n",
       "115         115     -12.85  female          yes  23.0                   63.0   \n",
       "119         119      -5.00    male           no  23.0                   69.0   \n",
       "126         126      -3.85    male           no  21.0                   51.0   \n",
       "163         163      -1.34  female          yes  16.0                   45.0   \n",
       "\n",
       "     loyalty  loyalty_codes  gender_codes  card_on_file_codes  \n",
       "103    False              0             0                   1  \n",
       "115    False              0             0                   1  \n",
       "119    False              0             1                   0  \n",
       "126    False              0             1                   0  \n",
       "163    False              0             0                   1  "
      ]
     },
     "execution_count": 21,
     "metadata": {},
     "output_type": "execute_result"
    }
   ],
   "source": [
    "#take a look at the outliers that have purchasing amount below 0 and are not loyal customers\n",
    "df_outliers = df_cus[(df_cus['purch_amt'] <0) & (df_cus['loyalty'] == 0)]\n",
    "df_outliers.head()"
   ]
  },
  {
   "cell_type": "code",
   "execution_count": 22,
   "metadata": {},
   "outputs": [
    {
     "data": {
      "text/plain": [
       "(1756, 10)"
      ]
     },
     "execution_count": 22,
     "metadata": {},
     "output_type": "execute_result"
    }
   ],
   "source": [
    "df_outliers.shape"
   ]
  },
  {
   "cell_type": "code",
   "execution_count": 23,
   "metadata": {},
   "outputs": [
    {
     "data": {
      "text/plain": [
       "loyalty  days_since_last_purch\n",
       "False    -6.0                       1\n",
       "         -5.0                       1\n",
       "         -3.0                       2\n",
       "         -1.0                       3\n",
       "          0.0                       1\n",
       "          3.0                       2\n",
       "          4.0                       2\n",
       "          5.0                       2\n",
       "          6.0                       3\n",
       "          7.0                       4\n",
       "          8.0                       9\n",
       "          9.0                      10\n",
       "          10.0                      9\n",
       "          11.0                     16\n",
       "          12.0                     12\n",
       "          13.0                     13\n",
       "          14.0                     17\n",
       "          15.0                     30\n",
       "          16.0                     32\n",
       "          17.0                     40\n",
       "          18.0                     39\n",
       "          19.0                     71\n",
       "          20.0                     75\n",
       "          21.0                     73\n",
       "          22.0                    108\n",
       "          23.0                    142\n",
       "          24.0                    159\n",
       "          25.0                    165\n",
       "          26.0                    220\n",
       "          27.0                    238\n",
       "                                 ... \n",
       "True      57.0                    241\n",
       "          58.0                    219\n",
       "          59.0                    212\n",
       "          60.0                    199\n",
       "          61.0                    126\n",
       "          62.0                    132\n",
       "          63.0                    114\n",
       "          64.0                     80\n",
       "          65.0                    104\n",
       "          66.0                     64\n",
       "          67.0                     66\n",
       "          68.0                     42\n",
       "          69.0                     29\n",
       "          70.0                     40\n",
       "          71.0                     32\n",
       "          72.0                     26\n",
       "          73.0                     27\n",
       "          74.0                     15\n",
       "          75.0                     11\n",
       "          76.0                     11\n",
       "          77.0                      5\n",
       "          78.0                      5\n",
       "          79.0                      3\n",
       "          80.0                      7\n",
       "          81.0                      5\n",
       "          82.0                      1\n",
       "          83.0                      3\n",
       "          84.0                      1\n",
       "          85.0                      1\n",
       "          87.0                      1\n",
       "Name: purch_amt, Length: 217, dtype: int64"
      ]
     },
     "execution_count": 23,
     "metadata": {},
     "output_type": "execute_result"
    }
   ],
   "source": [
    "#count the number of purchase based on the days since last purch. The higher the count and lower the days since\n",
    "#last purchase would indicate a propensity towards the loyaty program.\n",
    "df_cus.groupby(['loyalty','days_since_last_purch'])['purch_amt'].count()"
   ]
  },
  {
   "cell_type": "code",
   "execution_count": 24,
   "metadata": {},
   "outputs": [
    {
     "data": {
      "text/plain": [
       "<matplotlib.axes._subplots.AxesSubplot at 0x1a1d6e0a58>"
      ]
     },
     "execution_count": 24,
     "metadata": {},
     "output_type": "execute_result"
    },
    {
     "data": {
      "image/png": "[encoded data removed]",
      "text/plain": [
       "<Figure size 1008x288 with 1 Axes>"
      ]
     },
     "metadata": {},
     "output_type": "display_data"
    }
   ],
   "source": [
    "fig, ax = plt.subplots(figsize=(14,4), linewidth=5,edgecolor='.5')    \n",
    "df_loyal_cus = df_cus.groupby(['loyalty','days_since_last_purch','loyalty_codes'])['purch_amt'].count()\n",
    "df_loyal_cus.plot(kind='line',label='propensity', legend=True)\n",
    "\n"
   ]
  },
  {
   "cell_type": "code",
   "execution_count": 62,
   "metadata": {},
   "outputs": [
    {
     "name": "stdout",
     "output_type": "stream",
     "text": [
      "(120000, 5) (120000, 1)\n"
     ]
    }
   ],
   "source": [
    "#Now let's create our X and Y variable\n",
    "X = df_cus.drop(['gender', 'card_on_file', 'Unnamed: 0','loyalty_codes', 'loyalty'], axis=1)\n",
    "#x_train = np.asarray(x_train)\n",
    "#create our y_train outcome variable \n",
    "y = df_cus[['loyalty_codes']]\n",
    "\n",
    "print(X.shape, y.shape)\n",
    "#train_columns = x_train.columns"
   ]
  },
  {
   "cell_type": "code",
   "execution_count": 63,
   "metadata": {},
   "outputs": [
    {
     "data": {
      "text/plain": [
       "<matplotlib.axes._subplots.AxesSubplot at 0x1a2d77c240>"
      ]
     },
     "execution_count": 63,
     "metadata": {},
     "output_type": "execute_result"
    },
    {
     "data": {
      "image/png": "[encoded data removed]",
      "text/plain": [
       "<Figure size 432x288 with 2 Axes>"
      ]
     },
     "metadata": {},
     "output_type": "display_data"
    }
   ],
   "source": [
    "#now that we have all of our numerical data in one table let's review it and determine if our variables\n",
    "#are correlated with each other\n",
    "import seaborn as sns\n",
    "corr = X.corr()\n",
    "sns.heatmap(corr)"
   ]
  },
  {
   "cell_type": "code",
   "execution_count": 65,
   "metadata": {},
   "outputs": [],
   "source": [
    "#lets create a traning and testing set\n",
    "from sklearn.model_selection import train_test_split\n",
    "X_train, X_test, y_train, y_test = train_test_split(X, y.values.ravel(), \n",
    "                                                    test_size=0.2, \n",
    "                                                    random_state=42)\n",
    "\n"
   ]
  },
  {
   "cell_type": "code",
   "execution_count": 91,
   "metadata": {},
   "outputs": [
    {
     "name": "stdout",
     "output_type": "stream",
     "text": [
      "\n",
      "\n",
      "\n",
      "Best parameter choice for logistic model: {'C': 6, 'penalty': 'l1'}\n",
      "Training score for the best parameter: 0.7179889291265656\n",
      "\n",
      " Logistic cufusion matrix \n",
      " [[19156   806]\n",
      " [ 2382  1656]]\n",
      "\n",
      " Logistic classification report \n",
      "               precision    recall  f1-score   support\n",
      "\n",
      "           0       0.89      0.96      0.92     19962\n",
      "           1       0.67      0.41      0.51      4038\n",
      "\n",
      "   micro avg       0.87      0.87      0.87     24000\n",
      "   macro avg       0.78      0.68      0.72     24000\n",
      "weighted avg       0.85      0.87      0.85     24000\n",
      "\n",
      "Logistic accuracy score: 0.8671666666666666\n"
     ]
    },
    {
     "data": {
      "text/html": [
       "<div>\n",
       "<style scoped>\n",
       "    .dataframe tbody tr th:only-of-type {\n",
       "        vertical-align: middle;\n",
       "    }\n",
       "\n",
       "    .dataframe tbody tr th {\n",
       "        vertical-align: top;\n",
       "    }\n",
       "\n",
       "    .dataframe thead th {\n",
       "        text-align: right;\n",
       "    }\n",
       "</style>\n",
       "<table border=\"1\" class=\"dataframe\">\n",
       "  <thead>\n",
       "    <tr style=\"text-align: right;\">\n",
       "      <th></th>\n",
       "      <th>Accuracy</th>\n",
       "      <th>Model</th>\n",
       "      <th>Training score</th>\n",
       "    </tr>\n",
       "  </thead>\n",
       "  <tbody>\n",
       "    <tr>\n",
       "      <th>0</th>\n",
       "      <td>0.867167</td>\n",
       "      <td>Logistic Regression</td>\n",
       "      <td>0.717989</td>\n",
       "    </tr>\n",
       "  </tbody>\n",
       "</table>\n",
       "</div>"
      ],
      "text/plain": [
       "   Accuracy                Model  Training score\n",
       "0  0.867167  Logistic Regression        0.717989"
      ]
     },
     "execution_count": 91,
     "metadata": {},
     "output_type": "execute_result"
    }
   ],
   "source": [
    "#find predictions using logistic regression model\n",
    "#remove the warnings related to default parameters\n",
    "import warnings\n",
    "warnings.filterwarnings(\"ignore\", category=FutureWarning)\n",
    "from sklearn.model_selection import KFold, cross_val_score, GridSearchCV\n",
    "from sklearn.linear_model import LogisticRegression\n",
    "from sklearn.metrics import accuracy_score\n",
    "from sklearn.metrics import classification_report, confusion_matrix, accuracy_score\n",
    "\n",
    "\n",
    "param_grid = {'C': [6,7,8,9,10,11,12],\n",
    "             'penalty': ['l1','l2']\n",
    "             }\n",
    "\n",
    "scores = ['precision','recall','f1']\n",
    "for score in scores:\n",
    "    #print(\"# Tuning hyper-parameters for %s\" %  score)\n",
    "    print()\n",
    "\n",
    "lr = LogisticRegression(n_jobs=1)\n",
    "grid_clf_lr = GridSearchCV(lr, param_grid, cv=3, scoring='%s_macro' % score)\n",
    "\n",
    "train = grid_clf_lr.fit(X_train, y_train)\n",
    "y_pred = grid_clf_lr.predict(X_test)\n",
    "\n",
    "#Print best parameter and training score\n",
    "print('Best parameter choice for logistic model: {params}'.format(\n",
    "      params=grid_clf_lr.best_params_, score=grid_clf_lr.best_score_))\n",
    "print('Training score for the best parameter: {score}'.format(\n",
    "      params=grid_clf_lr.best_params_, score=grid_clf_lr.best_score_))\n",
    "\n",
    "print('\\n Logistic cufusion matrix \\n',confusion_matrix(y_test,y_pred))  \n",
    "print('\\n Logistic classification report \\n',classification_report(y_test,y_pred))  \n",
    "print('Logistic accuracy score:',accuracy_score(y_test, y_pred))  \n",
    "\n",
    "#create a result table\n",
    "data = [{'Model':'Logistic Regression', 'Training score': grid_clf_lr.best_score_,\n",
    "         'Accuracy': accuracy_score(y_test, y_pred)}]\n",
    "df_results = pd.DataFrame(data)\n",
    "\n",
    "df_results\n",
    "\n"
   ]
  },
  {
   "cell_type": "code",
   "execution_count": 92,
   "metadata": {},
   "outputs": [
    {
     "name": "stdout",
     "output_type": "stream",
     "text": [
      "\n",
      "\n",
      "\n",
      "Best parameter choice for logistic model: {'max_depth': 10, 'max_features': 'sqrt'}\n",
      "Training score for the best parameter: 0.6978170221042153\n",
      "\n",
      " Decison Tree confusion matrix \n",
      " [[19090   872]\n",
      " [ 2472  1566]]\n",
      "\n",
      " Decison Tree classification report \n",
      "               precision    recall  f1-score   support\n",
      "\n",
      "           0       0.89      0.96      0.92     19962\n",
      "           1       0.64      0.39      0.48      4038\n",
      "\n",
      "   micro avg       0.86      0.86      0.86     24000\n",
      "   macro avg       0.76      0.67      0.70     24000\n",
      "weighted avg       0.84      0.86      0.85     24000\n",
      "\n",
      "Decison Tree accuracy score: 0.8606666666666667\n"
     ]
    },
    {
     "data": {
      "text/html": [
       "<div>\n",
       "<style scoped>\n",
       "    .dataframe tbody tr th:only-of-type {\n",
       "        vertical-align: middle;\n",
       "    }\n",
       "\n",
       "    .dataframe tbody tr th {\n",
       "        vertical-align: top;\n",
       "    }\n",
       "\n",
       "    .dataframe thead th {\n",
       "        text-align: right;\n",
       "    }\n",
       "</style>\n",
       "<table border=\"1\" class=\"dataframe\">\n",
       "  <thead>\n",
       "    <tr style=\"text-align: right;\">\n",
       "      <th></th>\n",
       "      <th>Accuracy</th>\n",
       "      <th>Model</th>\n",
       "      <th>Training score</th>\n",
       "    </tr>\n",
       "  </thead>\n",
       "  <tbody>\n",
       "    <tr>\n",
       "      <th>0</th>\n",
       "      <td>0.867167</td>\n",
       "      <td>Logistic Regression</td>\n",
       "      <td>0.717989</td>\n",
       "    </tr>\n",
       "    <tr>\n",
       "      <th>0</th>\n",
       "      <td>0.860667</td>\n",
       "      <td>Decision Tree</td>\n",
       "      <td>0.697817</td>\n",
       "    </tr>\n",
       "  </tbody>\n",
       "</table>\n",
       "</div>"
      ],
      "text/plain": [
       "   Accuracy                Model  Training score\n",
       "0  0.867167  Logistic Regression        0.717989\n",
       "0  0.860667        Decision Tree        0.697817"
      ]
     },
     "execution_count": 92,
     "metadata": {},
     "output_type": "execute_result"
    }
   ],
   "source": [
    "#find predictions using Decission tree model\n",
    "from sklearn.model_selection import KFold, cross_val_score, GridSearchCV\n",
    "from sklearn.metrics import classification_report, confusion_matrix, accuracy_score\n",
    "from sklearn import tree\n",
    "\n",
    "param_grid = {'max_depth': [10, 20, 30],\n",
    "             'max_features': ['auto', 'sqrt']}\n",
    "\n",
    "scores = ['percision','recall','f1']\n",
    "\n",
    "for score in scores:\n",
    "    #print(\"# Tuning hyper-parameters for %s\" % score)\n",
    "    print()\n",
    "    \n",
    "dtc = tree.DecisionTreeClassifier()\n",
    "grid_clf_dtc = GridSearchCV(dtc, param_grid, cv=3, scoring='%s_macro' % score)\n",
    "train = grid_clf_dtc.fit(X_train, y_train)\n",
    "y_pred = grid_clf_dtc.predict(X_test)\n",
    "\n",
    "#Print best parameter and training score\n",
    "print('Best parameter choice for logistic model: {params}'.format(\n",
    "      params=grid_clf_dtc.best_params_, score=grid_clf_dtc.best_score_))\n",
    "print('Training score for the best parameter: {score}'.format(\n",
    "      params=grid_clf_dtc.best_params_, score=grid_clf_dtc.best_score_))\n",
    "\n",
    "\n",
    "print('\\n Decison Tree confusion matrix \\n',confusion_matrix(y_test,y_pred))  \n",
    "print('\\n Decison Tree classification report \\n',classification_report(y_test,y_pred))  \n",
    "print('Decison Tree accuracy score:',accuracy_score(y_test, y_pred)) \n",
    "\n",
    "\n",
    "#update result table\n",
    "data = [{'Model':'Decision Tree', 'Training score': grid_clf_dtc.best_score_,\n",
    "         'Accuracy': accuracy_score(y_test, y_pred)}]\n",
    "d2 = pd.DataFrame(data)\n",
    "df_results = df_results.append(d2) \n",
    "\n",
    "\n",
    "df_results\n",
    "\n",
    "\n"
   ]
  },
  {
   "cell_type": "code",
   "execution_count": 93,
   "metadata": {},
   "outputs": [
    {
     "name": "stdout",
     "output_type": "stream",
     "text": [
      "\n",
      "\n",
      "\n",
      "Best parameter choice for SGDC model: {'alpha': 0.0001, 'loss': 'log', 'max_iter': 5, 'tol': None}\n",
      "Training score for the best parameter: 0.7107337102351206\n",
      "\n",
      " SGDC cufusion matrix \n",
      " [[19639   323]\n",
      " [ 3561   477]]\n",
      "\n",
      " SGDC classification report \n",
      "               precision    recall  f1-score   support\n",
      "\n",
      "           0       0.85      0.98      0.91     19962\n",
      "           1       0.60      0.12      0.20      4038\n",
      "\n",
      "   micro avg       0.84      0.84      0.84     24000\n",
      "   macro avg       0.72      0.55      0.55     24000\n",
      "weighted avg       0.80      0.84      0.79     24000\n",
      "\n",
      "SGDC accuracy score: 0.8381666666666666\n"
     ]
    },
    {
     "data": {
      "text/html": [
       "<div>\n",
       "<style scoped>\n",
       "    .dataframe tbody tr th:only-of-type {\n",
       "        vertical-align: middle;\n",
       "    }\n",
       "\n",
       "    .dataframe tbody tr th {\n",
       "        vertical-align: top;\n",
       "    }\n",
       "\n",
       "    .dataframe thead th {\n",
       "        text-align: right;\n",
       "    }\n",
       "</style>\n",
       "<table border=\"1\" class=\"dataframe\">\n",
       "  <thead>\n",
       "    <tr style=\"text-align: right;\">\n",
       "      <th></th>\n",
       "      <th>Accuracy</th>\n",
       "      <th>Model</th>\n",
       "      <th>Training score</th>\n",
       "    </tr>\n",
       "  </thead>\n",
       "  <tbody>\n",
       "    <tr>\n",
       "      <th>0</th>\n",
       "      <td>0.867167</td>\n",
       "      <td>Logistic Regression</td>\n",
       "      <td>0.717989</td>\n",
       "    </tr>\n",
       "    <tr>\n",
       "      <th>0</th>\n",
       "      <td>0.860667</td>\n",
       "      <td>Decision Tree</td>\n",
       "      <td>0.697817</td>\n",
       "    </tr>\n",
       "    <tr>\n",
       "      <th>0</th>\n",
       "      <td>0.838167</td>\n",
       "      <td>Stochastic Gradient Decent</td>\n",
       "      <td>0.710734</td>\n",
       "    </tr>\n",
       "  </tbody>\n",
       "</table>\n",
       "</div>"
      ],
      "text/plain": [
       "   Accuracy                       Model  Training score\n",
       "0  0.867167         Logistic Regression        0.717989\n",
       "0  0.860667               Decision Tree        0.697817\n",
       "0  0.838167  Stochastic Gradient Decent        0.710734"
      ]
     },
     "execution_count": 93,
     "metadata": {},
     "output_type": "execute_result"
    }
   ],
   "source": [
    "#find predictions using stochastic gradient decent model\n",
    "from sklearn.model_selection import KFold, cross_val_score, GridSearchCV\n",
    "from sklearn.metrics import classification_report, confusion_matrix, accuracy_score\n",
    "from sklearn.linear_model import SGDClassifier\n",
    "\n",
    "param_grid = {'loss': [\"hinge\", \"log\", \"perceptron\"],\n",
    "              'alpha': [0.001,0.0001,0.00001],\n",
    "               'max_iter': [5,7,9],\n",
    "               'tol': [None]}\n",
    "\n",
    "scores = ['precision','recall','f1']\n",
    "for score in scores:\n",
    "    #print(\"# Tuning hyper-parameters for %s\" %  score)\n",
    "    print()\n",
    "\n",
    "sgdc = SGDClassifier()\n",
    "grid_clf_sgdc = GridSearchCV(sgdc, param_grid, cv=3, scoring='%s_macro' % score)\n",
    "\n",
    "#grid_clf_sgdc = GridSearchCV(sgdc, param_grid, cv=3, scoring='recall')\n",
    "\n",
    "train = grid_clf_sgdc.fit(X_train, y_train)\n",
    "y_pred = grid_clf_sgdc.predict(X_test)\n",
    "\n",
    "#Print best parameter and training score\n",
    "print('Best parameter choice for SGDC model: {params}'.format(\n",
    "      params=grid_clf_sgdc.best_params_, score=grid_clf_sgdc.best_score_))\n",
    "print('Training score for the best parameter: {score}'.format(\n",
    "      params=grid_clf_sgdc.best_params_, score=grid_clf_sgdc.best_score_))\n",
    "\n",
    "#print confusion, classification and accuracy score\n",
    "print('\\n SGDC cufusion matrix \\n',confusion_matrix(y_test,y_pred))  \n",
    "print('\\n SGDC classification report \\n',classification_report(y_test,y_pred))  \n",
    "print('SGDC accuracy score:',accuracy_score(y_test, y_pred))  \n",
    "\n",
    "#update result table\n",
    "data = [{'Model':'Stochastic Gradient Decent', 'Training score': grid_clf_sgdc.best_score_,\n",
    "          'Accuracy': accuracy_score(y_test, y_pred)}]\n",
    "d2 = pd.DataFrame(data)\n",
    "df_results = df_results.append(d2) \n",
    "\n",
    "df_results\n"
   ]
  },
  {
   "cell_type": "code",
   "execution_count": null,
   "metadata": {},
   "outputs": [],
   "source": [
    "#Overall: Logistic regression performed the best in determining a customers propensity to join the \n",
    "#the loyaty program. "
   ]
  }
 ],
 "metadata": {
  "kernelspec": {
   "display_name": "Python 3",
   "language": "python",
   "name": "python3"
  },
  "language_info": {
   "codemirror_mode": {
    "name": "ipython",
    "version": 3
   },
   "file_extension": ".py",
   "mimetype": "text/x-python",
   "name": "python",
   "nbconvert_exporter": "python",
   "pygments_lexer": "ipython3",
   "version": "3.6.5"
  }
 },
 "nbformat": 4,
 "nbformat_minor": 2
}
